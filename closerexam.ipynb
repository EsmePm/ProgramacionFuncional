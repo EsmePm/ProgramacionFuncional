{
 "cells": [
  {
   "cell_type": "code",
   "execution_count": 3,
   "metadata": {},
   "outputs": [],
   "source": [
    "import csv"
   ]
  },
  {
   "cell_type": "code",
   "execution_count": null,
   "metadata": {},
   "outputs": [],
   "source": [
    "def select_fieldn(head):\n",
    "    def select_field(a):\n",
    "        home = tuple(i for i in all if select_fieldn(a, head)(i)=='H')\n",
    "        return home\n",
    "    return select_field\n",
    "\n",
    "\n",
    "def ejercicio2(s:str) -> tuple:\n",
    "    with open(s) as csvfile:\n",
    "        lis = []\n",
    "        equipos = csv.reader(csvfile, delimiter = ',')\n",
    "        head = next(equipos)\n",
    "        n = select_fieldn(head)\n",
    "        n('FTR')\n",
    "    return\n",
    "\n",
    "s = ejercicio2('./soccer_df3.csv')\n",
    "print(s)\n"
   ]
  },
  {
   "cell_type": "code",
   "execution_count": null,
   "metadata": {},
   "outputs": [],
   "source": [
    "def ejercicio2(s:str) -> tuple:\n",
    "    with open(s) as csvfile:\n",
    "        lis = []\n",
    "        equipos = csv.reader(csvfile, delimiter = ',')\n",
    "        columnas = next(equipos)\n",
    "        for equipo in equipos:\n",
    "            iterador = zip(columnas,equipo)\n",
    "            lis.append(tuple(valor for clave, valor in iterador))\n",
    "        return tuple(lis)\n",
    "\n",
    "t = (ejercicio2('./soccer_df2.csv'))\n",
    "print(\"Ejercicio 2\\n\",t)"
   ]
  }
 ],
 "metadata": {
  "kernelspec": {
   "display_name": "Python 3",
   "language": "python",
   "name": "python3"
  },
  "language_info": {
   "codemirror_mode": {
    "name": "ipython",
    "version": 3
   },
   "file_extension": ".py",
   "mimetype": "text/x-python",
   "name": "python",
   "nbconvert_exporter": "python",
   "pygments_lexer": "ipython3",
   "version": "3.10.5 (tags/v3.10.5:f377153, Jun  6 2022, 16:14:13) [MSC v.1929 64 bit (AMD64)]"
  },
  "orig_nbformat": 4,
  "vscode": {
   "interpreter": {
    "hash": "26de051ba29f2982a8de78e945f0abaf191376122a1563185a90213a26c5da77"
   }
  }
 },
 "nbformat": 4,
 "nbformat_minor": 2
}
