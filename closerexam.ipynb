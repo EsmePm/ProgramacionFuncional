{
 "cells": [
  {
   "cell_type": "code",
   "execution_count": null,
   "metadata": {},
   "outputs": [],
   "source": [
    "import csv"
   ]
  },
  {
   "cell_type": "code",
   "execution_count": null,
   "metadata": {},
   "outputs": [],
   "source": [
    "def select_fieldn(head):\n",
    "    def select_field(a):\n",
    "        home = tuple(i for i in all if select_fieldn(a, head)(i)=='H')\n",
    "        return home\n",
    "    return select_field\n",
    "\n",
    "\n",
    "def ejercicio2(s:str) -> tuple:\n",
    "    with open(s) as csvfile:\n",
    "        lis = []\n",
    "        equipos = csv.reader(csvfile, delimiter = ',')\n",
    "        head = next(equipos)\n",
    "        n = select_fieldn(head)\n",
    "        n('FTR')\n",
    "    return\n",
    "\n",
    "s = ejercicio2('./soccer_df3.csv')\n",
    "print(s)\n"
   ]
  },
  {
   "cell_type": "code",
   "execution_count": null,
   "metadata": {},
   "outputs": [],
   "source": [
    "def ejercicio2(s:str) -> tuple:\n",
    "    with open(s) as csvfile:\n",
    "        lis = []\n",
    "        equipos = csv.reader(csvfile, delimiter = ',')\n",
    "        columnas = next(equipos)\n",
    "        for equipo in equipos:\n",
    "            iterador = zip(columnas,equipo)\n",
    "            lis.append(tuple(valor for clave, valor in iterador))\n",
    "        return tuple(lis)\n",
    "\n",
    "t = (ejercicio2('./soccer_df3.csv'))\n",
    "print(\"Ejercicio 2\\n\",t)"
   ]
  }
 ],
 "metadata": {
  "kernelspec": {
   "display_name": "Python 3.10.6 64-bit",
   "language": "python",
   "name": "python3"
  },
  "language_info": {
   "codemirror_mode": {
    "name": "ipython",
    "version": 3
   },
   "file_extension": ".py",
   "mimetype": "text/x-python",
   "name": "python",
   "nbconvert_exporter": "python",
   "pygments_lexer": "ipython3",
   "version": "3.10.6"
  },
  "orig_nbformat": 4,
  "vscode": {
   "interpreter": {
    "hash": "916dbcbb3f70747c44a77c7bcd40155683ae19c65e1c03b4aa3499c5328201f1"
   }
  }
 },
 "nbformat": 4,
 "nbformat_minor": 2
}
