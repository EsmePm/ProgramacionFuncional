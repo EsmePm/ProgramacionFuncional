{
 "cells": [
  {
   "cell_type": "code",
   "execution_count": 169,
   "metadata": {},
   "outputs": [
    {
     "name": "stdout",
     "output_type": "stream",
     "text": [
      "Ejercicio 1\n",
      "0\n",
      "1\n",
      "1\n",
      "2\n",
      "3\n"
     ]
    }
   ],
   "source": [
    "class Fibonacci():\n",
    "\n",
    "    def __init__(self) -> None:\n",
    "        self.c = 0\n",
    "        self.n = 1\n",
    "\n",
    "    def __iter__(self):\n",
    "        return self\n",
    "\n",
    "    def __next__(self):\n",
    "        result = self.c\n",
    "        self.c, self.n = self.n, self.c + self.n\n",
    "        return result\n",
    "\n",
    "\n",
    "f = Fibonacci()\n",
    "\n",
    "print(\"Ejercicio 1\")\n",
    "print(next(f))\n",
    "print(next(f))\n",
    "print(next(f))\n",
    "print(next(f))\n",
    "print(next(f))\n"
   ]
  },
  {
   "cell_type": "code",
   "execution_count": 14,
   "metadata": {},
   "outputs": [
    {
     "name": "stdout",
     "output_type": "stream",
     "text": [
      "Ejercicio 2\n",
      "1\n",
      "3\n",
      "5\n",
      "7\n",
      "9\n"
     ]
    }
   ],
   "source": [
    "def genearaImpares(n: int):\n",
    "    for i in range(n+1):\n",
    "        if i % 2 != 0:\n",
    "            yield i\n",
    "\n",
    "print(\"Ejercicio 2\")\n",
    "for i in genearaImpares(10):\n",
    "    print(i)"
   ]
  },
  {
   "cell_type": "code",
   "execution_count": 69,
   "metadata": {},
   "outputs": [
    {
     "name": "stdout",
     "output_type": "stream",
     "text": [
      "Ejercicio 3\n",
      "[2, 3, 5, 7, 11, 13, 17, 19, 23, 29, 31, 37, 41, 43, 47, 53, 59, 61, 67, 71, 73, 79, 83, 89, 97, 101, 103, 107, 109, 113, 127, 131, 137, 139, 149, 151, 157, 163, 167, 173, 179, 181, 191, 193, 197, 199, 211, 223, 227, 229]\n"
     ]
    }
   ],
   "source": [
    "def generaData(text:str):\n",
    "    text = text.split(\"\\t\")\n",
    "    l2 = []\n",
    "    for x in text[1:]:\n",
    "        l2 += x.split('\\n')\n",
    "    for x in l2:\n",
    "        yield int(x)\n",
    "\n",
    "text = \"\"\" \t2 \t3\t5\t7\t11\t13\t17\t19\t23\t29\n",
    "31\t37\t41\t43\t47\t53\t59\t61\t67\t71\n",
    "73\t79\t83\t89\t97\t101\t103\t107\t109\t113\n",
    "127\t131\t137\t139\t149\t151\t157\t163\t167\t173\n",
    "179\t181\t191\t193\t197\t199\t211\t223\t227\t229\"\"\" \n",
    "\n",
    "print('Ejercicio 3')\n",
    "x = []\n",
    "for i in generaData(text):\n",
    "    x.append(i)\n",
    "print(x)\n"
   ]
  },
  {
   "cell_type": "code",
   "execution_count": 168,
   "metadata": {},
   "outputs": [],
   "source": [
    "# def conjuntoc(x):\n",
    "#     c = (x if (0 <= x and x <= 10) else (x % 3 == 0 and x % 5 == 0))\n",
    "#     return x if (0 < x and x < 10) else (x % 3 == 0 and x % 5 == 0)\n",
    "#     return c\n",
    "# print('Ejercicio 4')\n",
    "# print(conjuntoc(15))"
   ]
  },
  {
   "cell_type": "code",
   "execution_count": 188,
   "metadata": {},
   "outputs": [
    {
     "name": "stdout",
     "output_type": "stream",
     "text": [
      "Ejercicio 5.1\n",
      "Distrito Candidato A\tCandidato B\tCandidato C\tCandidato D\n",
      "1\t\t194\t\t48\t\t206\t\t45\n",
      "2\t\t180\t\t20\t\t320\t\t16\n",
      "3\t\t221\t\t90\t\t140\t\t20\n",
      "4\t\t432\t\t50\t\t821\t\t14\n",
      "5\t\t820\t\t61\t\t946\t\t18\n",
      "Ejercicio 5.2\n"
     ]
    }
   ],
   "source": [
    "data = ((194, 48, 206, 45), (180, 20, 320, 16), (221, 90, 140, 20), (432, 50, 821, 14), (820, 61, 946, 18))\n",
    "\n",
    "print('Ejercicio 5.1')\n",
    "print(\"Distrito Candidato A\\tCandidato B\\tCandidato C\\tCandidato D\")\n",
    "{print(str(i[0])+\"\\t\\t\"+str(i[1][0])+\"\\t\\t\"+str(i[1][1])+\"\\t\\t\"+str(i[1][2])+\"\\t\\t\"+str(i[1][3])) for i in enumerate(data, start=1)}\n",
    "\n",
    "\n",
    "print('Ejercicio 5.2')\n",
    "r = map(lambda x : x[1], data)\n",
    "# print(list(r))"
   ]
  }
 ],
 "metadata": {
  "kernelspec": {
   "display_name": "Python 3.10.6 64-bit",
   "language": "python",
   "name": "python3"
  },
  "language_info": {
   "codemirror_mode": {
    "name": "ipython",
    "version": 3
   },
   "file_extension": ".py",
   "mimetype": "text/x-python",
   "name": "python",
   "nbconvert_exporter": "python",
   "pygments_lexer": "ipython3",
   "version": "3.10.6"
  },
  "orig_nbformat": 4,
  "vscode": {
   "interpreter": {
    "hash": "916dbcbb3f70747c44a77c7bcd40155683ae19c65e1c03b4aa3499c5328201f1"
   }
  }
 },
 "nbformat": 4,
 "nbformat_minor": 2
}
