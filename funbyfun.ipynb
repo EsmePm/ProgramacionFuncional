{
 "cells": [
  {
   "cell_type": "code",
   "execution_count": 9,
   "metadata": {},
   "outputs": [
    {
     "data": {
      "text/plain": [
       "'[hola]'"
      ]
     },
     "execution_count": 9,
     "metadata": {},
     "output_type": "execute_result"
    }
   ],
   "source": [
    "def caddelim(s, b,c):\n",
    "    return str(b+s+c)\n",
    "\n",
    "caddelim('hola','[',']')"
   ]
  },
  {
   "cell_type": "code",
   "execution_count": 5,
   "metadata": {},
   "outputs": [
    {
     "name": "stdout",
     "output_type": "stream",
     "text": [
      "hola\n"
     ]
    }
   ],
   "source": [
    "def make_print():\n",
    "    def print_hello():\n",
    "        print('hola')\n",
    "    return print_hello\n",
    "\n",
    "fn = make_print()\n",
    "fn()"
   ]
  },
  {
   "cell_type": "code",
   "execution_count": 6,
   "metadata": {},
   "outputs": [
    {
     "name": "stdout",
     "output_type": "stream",
     "text": [
      "hola\n"
     ]
    }
   ],
   "source": [
    "def make_printx(x):\n",
    "    def printx():\n",
    "        print(x)\n",
    "    return printx\n",
    "\n",
    "fn1 = make_printx('hola')\n",
    "fn1()"
   ]
  },
  {
   "cell_type": "code",
   "execution_count": 7,
   "metadata": {},
   "outputs": [
    {
     "name": "stdout",
     "output_type": "stream",
     "text": [
      "[ hola ]\n"
     ]
    }
   ],
   "source": [
    "def make_printb(start,end):\n",
    "    def prints(s):\n",
    "        print(start,s,end)\n",
    "    return prints\n",
    "\n",
    "fn3 = make_printb('[',']')\n",
    "fn3('hola')"
   ]
  },
  {
   "cell_type": "code",
   "execution_count": 10,
   "metadata": {},
   "outputs": [
    {
     "name": "stdout",
     "output_type": "stream",
     "text": [
      "9\n"
     ]
    }
   ],
   "source": [
    "def make_pow(x):\n",
    "    def pot(b):\n",
    "        print(pow(b,x))\n",
    "    return pot\n",
    "\n",
    "fn4 = make_pow(2)\n",
    "fn4(3)"
   ]
  },
  {
   "cell_type": "code",
   "execution_count": 11,
   "metadata": {},
   "outputs": [
    {
     "name": "stdout",
     "output_type": "stream",
     "text": [
      "[2, 6, 2, 0]\n"
     ]
    }
   ],
   "source": [
    "a = [2.2, 5.6, 1.9, 0.1]\n",
    "b = map(round,a) #el resultado de map es un iterable\n",
    "print(list(b))"
   ]
  },
  {
   "cell_type": "code",
   "execution_count": 13,
   "metadata": {},
   "outputs": [
    {
     "name": "stdout",
     "output_type": "stream",
     "text": [
      "[3.2, 6.6, 2.9, 1.1]\n"
     ]
    }
   ],
   "source": [
    "a = [2.2, 5.6, 1.9, 0.1]\n",
    "#add_one_lambda = lambda x : x + 1\n",
    "c = map(lambda x: x+1,a)\n",
    "\n",
    "print(list(c))"
   ]
  },
  {
   "cell_type": "code",
   "execution_count": 18,
   "metadata": {},
   "outputs": [
    {
     "name": "stdout",
     "output_type": "stream",
     "text": [
      "[3.2, 6.6, 2.9, 1.1]\n",
      "[7.2, 10.6, 6.9, 5.1]\n"
     ]
    }
   ],
   "source": [
    "def addn(n):\n",
    "    def add(x):\n",
    "        return x+n\n",
    "    return add\n",
    "\n",
    "a = [2.2, 5.6, 1.9, 0.1]\n",
    "add_one = addn(1)\n",
    "add_two = addn(2)\n",
    "\n",
    "d = map(add_one,a)\n",
    "print(list(d))\n",
    "\n",
    "d = map(addn(5),a)\n",
    "print(list(d))"
   ]
  },
  {
   "cell_type": "code",
   "execution_count": 1,
   "metadata": {},
   "outputs": [
    {
     "name": "stdout",
     "output_type": "stream",
     "text": [
      "0x61\n"
     ]
    }
   ],
   "source": [
    "def codestr(c):\n",
    "    return(hex(ord(c)))\n",
    "\n",
    "h = codestr('a')\n",
    "print(h)"
   ]
  },
  {
   "cell_type": "code",
   "execution_count": 3,
   "metadata": {},
   "outputs": [
    {
     "name": "stdout",
     "output_type": "stream",
     "text": [
      "0x61\n"
     ]
    }
   ],
   "source": [
    "def compose(f,g):\n",
    "    def fn(x):\n",
    "        return f(g(x))\n",
    "    return fn \n",
    "codestr2 = compose(hex,ord)\n",
    "print(codestr2('a'))"
   ]
  }
 ],
 "metadata": {
  "kernelspec": {
   "display_name": "Python 3.10.6 64-bit",
   "language": "python",
   "name": "python3"
  },
  "language_info": {
   "codemirror_mode": {
    "name": "ipython",
    "version": 3
   },
   "file_extension": ".py",
   "mimetype": "text/x-python",
   "name": "python",
   "nbconvert_exporter": "python",
   "pygments_lexer": "ipython3",
   "version": "3.10.6"
  },
  "orig_nbformat": 4,
  "vscode": {
   "interpreter": {
    "hash": "916dbcbb3f70747c44a77c7bcd40155683ae19c65e1c03b4aa3499c5328201f1"
   }
  }
 },
 "nbformat": 4,
 "nbformat_minor": 2
}
