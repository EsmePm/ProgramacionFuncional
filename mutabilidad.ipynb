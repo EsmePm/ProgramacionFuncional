{
 "cells": [
  {
   "cell_type": "code",
   "execution_count": 5,
   "metadata": {},
   "outputs": [
    {
     "name": "stdout",
     "output_type": "stream",
     "text": [
      "1 [10, 7, 30]\n",
      "2 [10, 7, 30, 5]\n",
      "3 [10, 7, 5]\n"
     ]
    }
   ],
   "source": [
    "k = [10, 20, 30] \n",
    "k[1] = 7 # k is now [10, 7, 30]\n",
    "print('1',k)\n",
    "k.append(5) # k is now [10, 7, 30, 5]\n",
    "print('2',k)\n",
    "del k[2] # k is now [10, 7, 5]\n",
    "print('3',k)"
   ]
  },
  {
   "cell_type": "code",
   "execution_count": 8,
   "metadata": {},
   "outputs": [
    {
     "name": "stdout",
     "output_type": "stream",
     "text": [
      "[0, 2, 3]\n"
     ]
    }
   ],
   "source": [
    "def evil_func(x):\n",
    "    x[0] = 0\n",
    "    \n",
    "k = [1, 2, 3]\n",
    "evil_func(k)\n",
    "print(k)     # [0, 2, 3]"
   ]
  },
  {
   "cell_type": "code",
   "execution_count": 12,
   "metadata": {},
   "outputs": [
    {
     "name": "stdout",
     "output_type": "stream",
     "text": [
      "[1, 2, 3]\n"
     ]
    }
   ],
   "source": [
    "def evil_func(x):\n",
    "\txcopy = list(x)\n",
    "\txcopy[0] = 0\n",
    "\n",
    "def evil_func(x):\n",
    "    x[0] = 0\n",
    "\n",
    "k = [1, 2, 3]\n",
    "evil_func(list(k))\n",
    "print(k)     # [1, 2, 3]"
   ]
  },
  {
   "cell_type": "code",
   "execution_count": 15,
   "metadata": {},
   "outputs": [
    {
     "name": "stdout",
     "output_type": "stream",
     "text": [
      "[2, 3]\n"
     ]
    }
   ],
   "source": [
    "def tail(x):\n",
    "    if x: # If x is already empty do nothing\n",
    "        del x[0]\n",
    "\n",
    "k = [1, 2, 3]\n",
    "tail(k)\n",
    "print(k)     # [2, 3]"
   ]
  },
  {
   "cell_type": "code",
   "execution_count": 19,
   "metadata": {},
   "outputs": [
    {
     "name": "stdout",
     "output_type": "stream",
     "text": [
      "[4, 6]\n",
      "9\n",
      "([1, 2], [4, 6], [5, 0])\n"
     ]
    }
   ],
   "source": [
    "t = ([1, 2], [4, 6], [5, 9])\n",
    "\n",
    "print(t[1])    # [4, 6]\n",
    "print(t[2][1]) # 9\n",
    "\n",
    "#t[1] = 0 # Error\n",
    "t[2][1] = 0 # t becomes ([1, 2], [4, 6], [5, 0])\n",
    "print(t)"
   ]
  }
 ],
 "metadata": {
  "kernelspec": {
   "display_name": "Python 3.10.6 64-bit",
   "language": "python",
   "name": "python3"
  },
  "language_info": {
   "codemirror_mode": {
    "name": "ipython",
    "version": 3
   },
   "file_extension": ".py",
   "mimetype": "text/x-python",
   "name": "python",
   "nbconvert_exporter": "python",
   "pygments_lexer": "ipython3",
   "version": "3.10.6"
  },
  "orig_nbformat": 4,
  "vscode": {
   "interpreter": {
    "hash": "916dbcbb3f70747c44a77c7bcd40155683ae19c65e1c03b4aa3499c5328201f1"
   }
  }
 },
 "nbformat": 4,
 "nbformat_minor": 2
}
