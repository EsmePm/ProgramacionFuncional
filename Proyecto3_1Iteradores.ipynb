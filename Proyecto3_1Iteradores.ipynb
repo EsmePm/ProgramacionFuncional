{
 "cells": [
  {
   "cell_type": "code",
   "execution_count": null,
   "metadata": {},
   "outputs": [],
   "source": [
    "import csv\n",
    "from statistics import mean"
   ]
  },
  {
   "cell_type": "markdown",
   "metadata": {},
   "source": [
    "##### 1.Crear una lista de diccionarios con todos los registros y todas columnas del csv"
   ]
  },
  {
   "cell_type": "code",
   "execution_count": null,
   "metadata": {},
   "outputs": [],
   "source": [
    "def generator(students, columnas):\n",
    "    for student in students:\n",
    "        iterador = zip(columnas,student)\n",
    "        yield {clave:valor for clave, valor in iterador}\n",
    "\n",
    "with open('./exams.csv') as csvfile:\n",
    "    students = csv.reader(csvfile, delimiter = ',')\n",
    "    columnas = next(students)\n",
    "    lis = []\n",
    "    for x in generator(students, columnas):\n",
    "        lis.append(x)\n",
    "    print(lis)"
   ]
  },
  {
   "cell_type": "markdown",
   "metadata": {},
   "source": [
    "##### 2. Crear una lista de listas con todos los registros del csv donde el gender sea male"
   ]
  },
  {
   "cell_type": "code",
   "execution_count": null,
   "metadata": {},
   "outputs": [],
   "source": [
    "with open('./exams.csv') as csvfile:\n",
    "    students = csv.reader(csvfile, delimiter = ',')\n",
    "    columnas = next(students)\n",
    "    l = filter(lambda x: x[0] == 'male', students)\n",
    "    print(list(l))"
   ]
  },
  {
   "cell_type": "markdown",
   "metadata": {},
   "source": [
    "##### 3. Crear una lista de diccionarios donde solo aparezcan el gender, test preparation course y math score"
   ]
  },
  {
   "cell_type": "code",
   "execution_count": null,
   "metadata": {},
   "outputs": [],
   "source": [
    "def generator(students, columnas):\n",
    "    for student in students:\n",
    "        iterador = zip(columnas,student)\n",
    "        yield {clave: valor for clave, valor in iterador if clave == 'gender' or clave == 'test preparation course' or clave == 'math score'}\n",
    "    \n",
    "with open('./exams.csv') as csvfile:\n",
    "    li = []\n",
    "    students = csv.reader(csvfile, delimiter = ',')\n",
    "    columnas = next(students)\n",
    "    for i in generator(students, columnas):\n",
    "        li.append(i)\n",
    "    print(li)"
   ]
  },
  {
   "cell_type": "markdown",
   "metadata": {},
   "source": [
    "##### 4. Crear una lista de diccionarios de todos los registros donde race/ethnicity sea group D"
   ]
  },
  {
   "cell_type": "code",
   "execution_count": null,
   "metadata": {},
   "outputs": [],
   "source": [
    "with open('./exams.csv') as csvfile:\n",
    "    students = csv.reader(csvfile, delimiter = ',')\n",
    "    columnas = next(students)\n",
    "    lista = map(lambda x : {clave: valor for clave, valor in zip(columnas,x)} , filter(lambda x : x[1]=='group D', students))\n",
    "    print(list(lista))"
   ]
  },
  {
   "cell_type": "markdown",
   "metadata": {},
   "source": [
    "##### 5. Crear una lista de diccionarios que solo tenga race/ethnicity y test preparation score"
   ]
  },
  {
   "cell_type": "code",
   "execution_count": null,
   "metadata": {},
   "outputs": [],
   "source": [
    "def generator(students, columnas):\n",
    "    for student in students:\n",
    "        iterador = zip(columnas,student)\n",
    "        yield {clave: valor for clave, valor in iterador if clave == 'race/ethnicity' or clave == 'test preparation course'}\n",
    "    \n",
    "with open('./exams.csv') as csvfile:\n",
    "    l5 = []\n",
    "    students = csv.reader(csvfile, delimiter = ',')\n",
    "    columnas = next(students)\n",
    "    for i in generator(students, columnas):\n",
    "        l5.append(i)\n",
    "    print(l5)\n"
   ]
  },
  {
   "cell_type": "markdown",
   "metadata": {},
   "source": [
    "##### 6. Crear un diccionario de diccionarios que solo tenga race/ethnicity y test preparation score"
   ]
  },
  {
   "cell_type": "code",
   "execution_count": null,
   "metadata": {},
   "outputs": [],
   "source": [
    "def generator(students, columnas):\n",
    "    for student in students:\n",
    "        iterador = zip(columnas,student)\n",
    "        yield {clave: valor for clave, valor in iterador if clave == 'race/ethnicity' or clave == 'test preparation course'}\n",
    "    \n",
    "with open('./exams.csv') as csvfile:\n",
    "    l6 = {}\n",
    "    students = csv.reader(csvfile, delimiter = ',')\n",
    "    columnas = next(students)\n",
    "    for x,i in enumerate(generator(students, columnas),start = 1):\n",
    "        l6['Estudiante '+ str(x)] = i\n",
    "    print(l6)"
   ]
  },
  {
   "cell_type": "markdown",
   "metadata": {},
   "source": [
    "##### 7. Crear un diccionario de diccionarios con todos los registros y todas columnas del csv, excepto: math score,reading score,writing score, todos estos datos excluidos deben ser agregados a cada diccionario en una lista con la clave: Score"
   ]
  },
  {
   "cell_type": "code",
   "execution_count": null,
   "metadata": {},
   "outputs": [],
   "source": [
    "def generator(students, columnas):\n",
    "    for student in students:\n",
    "        list_students = []\n",
    "        iterador = zip(columnas,student)\n",
    "        l = {clave: valor for clave, valor in iterador}\n",
    "        for i in range(5,8):\n",
    "            list_students.append(student[i])\n",
    "        l['Score'] = list_students\n",
    "        yield  l\n",
    "    \n",
    "with open('./exams.csv') as csvfile:\n",
    "    l7 = {}\n",
    "    students = csv.reader(csvfile, delimiter = ',')\n",
    "    columnas = next(students)\n",
    "    del columnas[5:8]\n",
    "    for x,i in enumerate(generator(students, columnas),start = 1):\n",
    "        l7['Estudiante '+ str(x)] = i\n",
    "    print(l7)"
   ]
  },
  {
   "cell_type": "markdown",
   "metadata": {},
   "source": [
    "##### 8. Crear un diccionario de tuplas en donde la tupla contenga math score, reading score, writing score"
   ]
  },
  {
   "cell_type": "code",
   "execution_count": null,
   "metadata": {},
   "outputs": [],
   "source": [
    "with open('./exams.csv') as csvfile:\n",
    "    dicc = {}\n",
    "    students = csv.reader(csvfile, delimiter = ',')\n",
    "    columnas = next(students)\n",
    "\n",
    "    tupla = map(lambda x : {tuple ([x[5],x[6],x[7]])}, students)\n",
    "    for x, t in enumerate(tupla, start = 1):\n",
    "        dicc['Estudiante '+str(x)] = t\n",
    "    print(dicc)"
   ]
  },
  {
   "cell_type": "markdown",
   "metadata": {},
   "source": [
    "##### 9. Crear un diccionario de diccionarios que solo tenga estudiantes de gender female."
   ]
  },
  {
   "cell_type": "code",
   "execution_count": null,
   "metadata": {},
   "outputs": [],
   "source": [
    "with open('./exams.csv') as csvfile:\n",
    "    dicc = {}\n",
    "    students = csv.reader(csvfile, delimiter = ',')\n",
    "    columnas = next(students)\n",
    "    \n",
    "    tupla = map(lambda x : {clave: valor for clave, valor in zip(columnas,x)}, filter(lambda x : x[0] == 'female',students))\n",
    "    for x, t in enumerate(tupla, start = 1):\n",
    "        dicc['Estudiante '+str(x)] = t\n",
    "    print(dicc)"
   ]
  },
  {
   "cell_type": "markdown",
   "metadata": {},
   "source": [
    "##### 10. Crear un diccionario de tuplas, donde la tupla contenga gender, race/ethnicity y el promedio de las columnas: math score, reading score y writing score."
   ]
  },
  {
   "cell_type": "code",
   "execution_count": null,
   "metadata": {},
   "outputs": [],
   "source": [
    "def generator(students):\n",
    "    list_students = []\n",
    "    for student in students:\n",
    "        for i in range(5,8):\n",
    "            list_students.append(int(student[i]))\n",
    "        yield  {tuple ([student[0],student[1],mean(list_students)])}\n",
    "    \n",
    "with open('./exams.csv') as csvfile:\n",
    "    l10 = {}\n",
    "    students = csv.reader(csvfile, delimiter = ',')\n",
    "    columnas = next(students)\n",
    "    for x,i in enumerate(generator(students),start = 1):\n",
    "        l10['Estudiante '+ str(x)] = i\n",
    "    print(l10)"
   ]
  },
  {
   "cell_type": "markdown",
   "metadata": {},
   "source": [
    "##### 11. Crear un conjunto de todos los estudiantes que sus elementos estan formados por una tupla : gender, race/ethnicity y test preparation course  donde teste preparation course sea completo."
   ]
  },
  {
   "cell_type": "code",
   "execution_count": null,
   "metadata": {},
   "outputs": [],
   "source": [
    "with open('./exams.csv') as csvfile:\n",
    "    conjunt = set()\n",
    "    students = csv.reader(csvfile, delimiter = ',')\n",
    "    tupla = map(lambda x : ([x[0],x[1],x[4]]), filter(lambda x : x[4] =='completed',students))\n",
    "    for x in tupla:\n",
    "        conjunt.add(tuple(x))\n",
    "    print(conjunt)"
   ]
  },
  {
   "cell_type": "markdown",
   "metadata": {},
   "source": [
    "##### 12. Crear un conjunto de todos los estudiantes que sus elementos estan formados por una tupla : parental level of education, lunch y test preparation course, donde parental level of education no sea high school."
   ]
  },
  {
   "cell_type": "code",
   "execution_count": null,
   "metadata": {},
   "outputs": [],
   "source": [
    "with open('./exams.csv') as csvfile:\n",
    "    conjunt = set()\n",
    "    students = csv.reader(csvfile, delimiter = ',')\n",
    "    tupla = map(lambda x : ([x[2],x[3],x[4]]), filter(lambda x : x[2] !='high school',students))\n",
    "    for x in tupla:\n",
    "        conjunt.add(tuple(x))\n",
    "    print(conjunt)"
   ]
  },
  {
   "cell_type": "markdown",
   "metadata": {},
   "source": [
    "#### 13. Crear un conjunto todos los estudiantes que sus elementos estan formados por una tupla: gender, race/ethnicity y el promedio donde el promedio de match score, reading score y writing score sea mayor o igual a 60."
   ]
  },
  {
   "cell_type": "code",
   "execution_count": null,
   "metadata": {},
   "outputs": [],
   "source": [
    "def generator(students):\n",
    "    for student in students:\n",
    "        list_aux = list(map(lambda x : int(x), student[5:8]))\n",
    "        if mean(list_aux) >= 60:\n",
    "            yield ([student[0],student[1],mean(list_aux)])\n",
    "\n",
    "with open('./exams.csv') as csvfile:\n",
    "    conjunt = set()\n",
    "    students = csv.reader(csvfile, delimiter = ',')\n",
    "    columnas = next(students)\n",
    "    for x in generator(students):\n",
    "        conjunt.add(tuple(x))\n",
    "    print(conjunt)\n"
   ]
  },
  {
   "cell_type": "markdown",
   "metadata": {},
   "source": [
    "#### 14. Crear un conjunto todos los estudiantes que sus elementos estan formados por una tupla: gender, race/ethnicity y el promedio donde el promedio de match score, reading score y writing score sea igual a 60. "
   ]
  },
  {
   "cell_type": "code",
   "execution_count": null,
   "metadata": {},
   "outputs": [],
   "source": [
    "def generator(students):\n",
    "    for student in students:\n",
    "        list_aux = list(map(lambda x : int(x), student[5:8]))\n",
    "        if mean(list_aux) == 60:\n",
    "            yield ([student[0],student[1],mean(list_aux)])\n",
    "\n",
    "with open('./exams.csv') as csvfile:\n",
    "    conjunt = set()\n",
    "    students = csv.reader(csvfile, delimiter = ',')\n",
    "    columnas = next(students)\n",
    "    for x in generator(students):\n",
    "        conjunt.add(tuple(x))\n",
    "    print(conjunt)"
   ]
  },
  {
   "cell_type": "markdown",
   "metadata": {},
   "source": [
    "#### 15. Crear un conjunto todos los estudiantes que sus elementos estan formados por una tupla: gender, race/ethnicity y el promedio de match score, reading score y writing score donde el gender sea female. "
   ]
  },
  {
   "cell_type": "code",
   "execution_count": null,
   "metadata": {},
   "outputs": [],
   "source": [
    "def generator(students):\n",
    "    for student in students:\n",
    "        list_aux = list(map(lambda x : int(x), student[5:8]))\n",
    "        if student[0] ==  'female':\n",
    "            yield ([student[0],student[1],mean(list_aux)])\n",
    "\n",
    "with open('./exams.csv') as csvfile:\n",
    "    conjunt = set()\n",
    "    students = csv.reader(csvfile, delimiter = ',')\n",
    "    columnas = next(students)\n",
    "    for x in generator(students):\n",
    "        conjunt.add(tuple(x))\n",
    "    print(conjunt)\n"
   ]
  },
  {
   "cell_type": "markdown",
   "metadata": {},
   "source": [
    "#### 16. Mediante operación de conjuntos unir los conjuntos del ejercicio 11 y 12."
   ]
  },
  {
   "cell_type": "code",
   "execution_count": null,
   "metadata": {},
   "outputs": [],
   "source": [
    "def generator(students):\n",
    "    for student in students:\n",
    "        if student[4]=='completed':\n",
    "            yield [0, tuple([student[0],student[1],student[4]])]\n",
    "        if student[0] =='female' and student[1]!='group A':\n",
    "            yield [1, tuple([student[0],student[1],student[4]])]\n",
    "\n",
    "with open('./exams.csv') as csvfile:\n",
    "    students = csv.reader(csvfile, delimiter = ',')\n",
    "    columnas = next(students)\n",
    "    conjunto11 = set()\n",
    "    conjunto12 = set()\n",
    "    for tupla in generator(students):\n",
    "        if tupla[0] == 0:\n",
    "            conjunto11.add(tupla[1])\n",
    "        else:\n",
    "            conjunto12.add(tupla[1])\n",
    "    conjuntoFinal = set(conjunto11.union(conjunto12))\n",
    "    \n",
    "    print(conjuntoFinal)"
   ]
  },
  {
   "cell_type": "markdown",
   "metadata": {},
   "source": [
    "#### 17. Mediante operación de conjuntos obtener los estudiantes que se encuentran en el conjunto del ejercicio 13 pero no en el conjunto del ejercicio 14."
   ]
  },
  {
   "cell_type": "code",
   "execution_count": null,
   "metadata": {},
   "outputs": [],
   "source": [
    "def generator(students):\n",
    "    for student in students:\n",
    "        list_aux = list(map(lambda x : int(x), student[5:8]))\n",
    "        if mean(list_aux) >=  60:\n",
    "             yield [0, tuple([student[0],student[1],mean(list_aux)])]\n",
    "        if mean(list_aux) ==  60:\n",
    "             yield [1, tuple([student[0],student[1],mean(list_aux)])]\n",
    "\n",
    "\n",
    "with open('./exams.csv') as csvfile:\n",
    "    students = csv.reader(csvfile, delimiter = ',')\n",
    "    columnas = next(students)\n",
    "    conjunto13 = set()\n",
    "    conjunto14 = set()\n",
    "    conjuntoFinal = set()\n",
    "    for tupla in generator(students):\n",
    "        if tupla[0] ==  0:\n",
    "            conjunto13.add(tupla[1])\n",
    "        else:\n",
    "            conjunto14.add(tupla[1]) \n",
    "    conjuntoFinal = conjunto13.symmetric_difference(conjunto13.intersection(conjunto14))\n",
    "    print(conjuntoFinal)"
   ]
  },
  {
   "cell_type": "markdown",
   "metadata": {},
   "source": [
    "#### 18. Mediante operación de conjuntos obtener los estudiantes que se encuentran en el conjunto del ejercicio 13 pero no en el conjunto del ejercicio 15."
   ]
  },
  {
   "cell_type": "code",
   "execution_count": null,
   "metadata": {},
   "outputs": [],
   "source": [
    "def generator(students):\n",
    "    for student in students:\n",
    "        list_aux = list(map(lambda x : int(x), student[5:8]))\n",
    "        if mean(list_aux) >=  60:\n",
    "             yield [0, tuple([student[0],student[1],mean(list_aux)])]\n",
    "        if student[0] ==  'female':\n",
    "             yield [1, tuple([student[0],student[1],mean(list_aux)])]\n",
    "\n",
    "with open('./exams.csv') as csvfile:\n",
    "    students = csv.reader(csvfile, delimiter = ',')\n",
    "    columnas = next(students)\n",
    "    conjunto13 = set()\n",
    "    conjunto15 = set()\n",
    "    conjuntoFinal = set()\n",
    "    for tupla in generator(students):\n",
    "        if tupla[0] ==  0:\n",
    "            conjunto13.add(tupla[1])\n",
    "        else:\n",
    "            conjunto15.add(tupla[1]) \n",
    "    conjuntoFinal = conjunto13.symmetric_difference(conjunto13.intersection(conjunto15))\n",
    "    print(conjuntoFinal)"
   ]
  },
  {
   "cell_type": "markdown",
   "metadata": {},
   "source": [
    "#### 19. Mediante operación de conjuntos obtener los estudiantes que se encuentran en el conjunto del ejercicio 15 pero no en el conjunto del ejercicio 13."
   ]
  },
  {
   "cell_type": "code",
   "execution_count": null,
   "metadata": {},
   "outputs": [],
   "source": [
    "def generator(students):\n",
    "    for student in students:\n",
    "        list_aux = list(map(lambda x : int(x), student[5:8]))\n",
    "        if mean(list_aux) >=  60:\n",
    "             yield [0, tuple([student[0],student[1],mean(list_aux)])]\n",
    "        if student[0] ==  'female':\n",
    "             yield [1, tuple([student[0],student[1],mean(list_aux)])]\n",
    "\n",
    "with open('./exams.csv') as csvfile:\n",
    "    students = csv.reader(csvfile, delimiter = ',')\n",
    "    columnas = next(students)\n",
    "    conjunto13 = set()\n",
    "    conjunto15 = set()\n",
    "    conjuntoFinal = set()\n",
    "    for tupla in generator(students):\n",
    "        if tupla[0] ==  0:\n",
    "            conjunto13.add(tupla[1])\n",
    "        else:\n",
    "            conjunto15.add(tupla[1]) \n",
    "    conjuntoFinal = conjunto15.symmetric_difference(conjunto15.intersection(conjunto13))\n",
    "    print(conjuntoFinal)\n"
   ]
  },
  {
   "cell_type": "markdown",
   "metadata": {},
   "source": [
    "#### 20. Mediante operacion de conjuntos obtener los estudiantes que se encuentras en el conjunto del ejercicio 12 pero no en el conjunto del ejercicio 11."
   ]
  },
  {
   "cell_type": "code",
   "execution_count": null,
   "metadata": {},
   "outputs": [],
   "source": [
    "def generator(students):\n",
    "    for student in students:\n",
    "        if student[4]=='completed':\n",
    "             yield [0, tuple([student[0],student[1],student[4]])]\n",
    "        if student[0] =='female' and student[1]!='group A':\n",
    "             yield [1, tuple([student[0],student[1],student[4]])]\n",
    "\n",
    "with open('./exams.csv') as csvfile:\n",
    "    students = csv.reader(csvfile, delimiter = ',')\n",
    "    columnas = next(students)\n",
    "    conjunto12 = set()\n",
    "    conjunto11 = set()\n",
    "    conjuntoFinal = set()\n",
    "    for tupla in generator(students):\n",
    "        if tupla[0] ==  0:\n",
    "            conjunto11.add(tupla[1])\n",
    "        else:\n",
    "            conjunto12.add(tupla[1]) \n",
    "    conjuntoFinal = conjunto11.difference(conjunto12)\n",
    "   \n",
    "    print(conjuntoFinal)"
   ]
  }
 ],
 "metadata": {
  "kernelspec": {
   "display_name": "Python 3.10.6 64-bit",
   "language": "python",
   "name": "python3"
  },
  "language_info": {
   "codemirror_mode": {
    "name": "ipython",
    "version": 3
   },
   "file_extension": ".py",
   "mimetype": "text/x-python",
   "name": "python",
   "nbconvert_exporter": "python",
   "pygments_lexer": "ipython3",
   "version": "3.10.6"
  },
  "orig_nbformat": 4,
  "vscode": {
   "interpreter": {
    "hash": "916dbcbb3f70747c44a77c7bcd40155683ae19c65e1c03b4aa3499c5328201f1"
   }
  }
 },
 "nbformat": 4,
 "nbformat_minor": 2
}
