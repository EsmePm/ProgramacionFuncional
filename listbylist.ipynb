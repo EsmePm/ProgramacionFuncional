{
 "cells": [
  {
   "cell_type": "code",
   "execution_count": 25,
   "metadata": {},
   "outputs": [
    {
     "name": "stdout",
     "output_type": "stream",
     "text": [
      "45\n"
     ]
    }
   ],
   "source": [
    "def lis(l):\n",
    "    if not isinstance(l, list):\n",
    "        return l\n",
    "    elif l == []:\n",
    "        return 0\n",
    "    return lis(l[0]) + lis(l[1:])\n",
    "\n",
    "if __name__ == '__main__':\n",
    "    l = [1, 2, [3, 4], 5, [[6, 7], [8, 9]]]\n",
    "    print(lis(l))"
   ]
  },
  {
   "cell_type": "code",
   "execution_count": 22,
   "metadata": {},
   "outputs": [
    {
     "name": "stdout",
     "output_type": "stream",
     "text": [
      "45\n"
     ]
    }
   ],
   "source": [
    "def lis(l):\n",
    "    if l == []:\n",
    "        return 0\n",
    "    if not isinstance(l, list):\n",
    "        return l\n",
    "    suma = 0\n",
    "    for i in l:\n",
    "            suma += lis(i)\n",
    "    return suma\n",
    "\n",
    "if __name__ == '__main__':\n",
    "    l = [1, 2, [3, 4], 5, [[6, 7], [8, 9]]]\n",
    "    print(lis(l))\n",
    "    "
   ]
  }
 ],
 "metadata": {
  "kernelspec": {
   "display_name": "Python 3.10.6 64-bit",
   "language": "python",
   "name": "python3"
  },
  "language_info": {
   "codemirror_mode": {
    "name": "ipython",
    "version": 3
   },
   "file_extension": ".py",
   "mimetype": "text/x-python",
   "name": "python",
   "nbconvert_exporter": "python",
   "pygments_lexer": "ipython3",
   "version": "3.10.6"
  },
  "orig_nbformat": 4,
  "vscode": {
   "interpreter": {
    "hash": "916dbcbb3f70747c44a77c7bcd40155683ae19c65e1c03b4aa3499c5328201f1"
   }
  }
 },
 "nbformat": 4,
 "nbformat_minor": 2
}
