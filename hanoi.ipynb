{
 "cells": [
  {
   "attachments": {},
   "cell_type": "markdown",
   "metadata": {},
   "source": [
    "# Torres de Hanoi"
   ]
  },
  {
   "cell_type": "code",
   "execution_count": 1,
   "metadata": {},
   "outputs": [],
   "source": [
    "import time\n",
    "import sys"
   ]
  },
  {
   "attachments": {},
   "cell_type": "markdown",
   "metadata": {},
   "source": [
    "### A) Hanoi Iterativo"
   ]
  },
  {
   "cell_type": "code",
   "execution_count": 7,
   "metadata": {},
   "outputs": [
    {
     "name": "stdout",
     "output_type": "stream",
     "text": [
      "Disco 1 de ' C ' hacia ' B '\n",
      "Disco 2 de ' C ' hacia ' A '\n",
      "Disco 1 de ' B ' hacia ' A '\n",
      "Disco 3 de ' C ' hacia ' B '\n",
      "Disco 1 de ' A ' hacia ' C '\n",
      "Disco 2 de ' A ' hacia ' B '\n",
      "Disco 1 de ' C ' hacia ' B '\n",
      "tiempo:  0.9468235969543457\n",
      "# de llamadas: 1\n"
     ]
    }
   ],
   "source": [
    "# Estrutura para representar una pila\n",
    "class Stack:\n",
    "    # nodo de árbol recién creado\n",
    "    def __init__(self, capacity:int):\n",
    "        self.capacity = capacity\n",
    "        self.top = -1\n",
    "        self.array = [0]*capacity\n",
    " \n",
    "# función para crear una pila de capacidad determinada.\n",
    "def createStack(capacity:int) -> Stack:\n",
    "    stack = Stack(capacity)\n",
    "    return stack\n",
    "  \n",
    "# La pila está llena cuando top es igual al último índice.\n",
    "def isFull(stack:Stack) -> float:\n",
    "    return (stack.top == (stack.capacity - 1))\n",
    "   \n",
    "# La pila está vacía cuando top es igual a -1.\n",
    "def isEmpty(stack:Stack) -> float:\n",
    "    return (stack.top == -1)\n",
    "   \n",
    "# Función para añadir un elemento a la pila.\n",
    "# Aumenta top en 1\n",
    "def push(stack:Stack, item:int):\n",
    "    if(isFull(stack)):\n",
    "        return\n",
    "    stack.top+=1\n",
    "    stack.array[stack.top] = item\n",
    "   \n",
    "# Función para eliminar un elemento de la pila.\n",
    "# Decrementa top en 1\n",
    "def Pop(stack:Stack) -> int:\n",
    "    if(isEmpty(stack)):\n",
    "        return -sys.maxsize\n",
    "    Top = stack.top\n",
    "    stack.top-=1\n",
    "    return stack.array[Top]\n",
    "   \n",
    "# Movimiento entre dos barras\n",
    "def moveDisksBetweenTwoPoles(src:Stack, dest:Stack, c:str, b:str):\n",
    "    pole1TopDisk = Pop(src)\n",
    "    pole2TopDisk = Pop(dest)\n",
    " \n",
    "    # Si barra 1 está vacía\n",
    "    if (pole1TopDisk == -sys.maxsize):\n",
    "        push(src, pole2TopDisk)\n",
    "        moveDisk(b, c, pole2TopDisk)\n",
    "       \n",
    "    # Si barra 2 está vacía\n",
    "    elif (pole2TopDisk == -sys.maxsize):\n",
    "        push(dest, pole1TopDisk)\n",
    "        moveDisk(c, b, pole1TopDisk)\n",
    "       \n",
    "    # Si el disco superior de la barra 1 > el disco superior de la barra 2\n",
    "    elif (pole1TopDisk > pole2TopDisk):\n",
    "        push(src, pole1TopDisk)\n",
    "        push(src, pole2TopDisk)\n",
    "        moveDisk(b, c, pole2TopDisk)\n",
    "       \n",
    "    # Si el disco superior de la barra 1 < el disco superior de la barra 2\n",
    "    else:\n",
    "        push(dest, pole2TopDisk)\n",
    "        push(dest, pole1TopDisk)\n",
    "        moveDisk(c, b, pole1TopDisk)\n",
    "   \n",
    "# Función para mostrar el moviemiento de los discos\n",
    "def moveDisk(fromPeg:str, toPeg:str, disk:int):\n",
    "    print(\"Disco\", disk, \"de '\", fromPeg, \"' hacia '\", toPeg, \"'\")\n",
    "    \n",
    "   \n",
    "# Función para el rompecabezas de torres de hanoi\n",
    "def tohIterative(num_of_disks:int, src:Stack, aux:Stack, dest:Stack) -> int:\n",
    "    a, b, c = 'A', 'B', 'C'\n",
    "    contador:int = 1\n",
    "    # Si el número de discos es par, entonces intercambia \n",
    "    # polo de destino y polo auxiliar\n",
    "    if (num_of_disks % 2 == 0):\n",
    "        temp = b\n",
    "        b = a\n",
    "        a = temp\n",
    "    total_num_of_moves = int(pow(2, num_of_disks) - 1)\n",
    "   \n",
    "    # Los discos más grandes serán empujados primero\n",
    "    for i in range(num_of_disks, 0, -1):\n",
    "        push(src, i)\n",
    "   \n",
    "    for i in range(1, total_num_of_moves + 1):\n",
    "        if (i % 3 == 1):\n",
    "            moveDisksBetweenTwoPoles(src, dest, c, b)\n",
    "   \n",
    "        elif (i % 3 == 2):\n",
    "            moveDisksBetweenTwoPoles(src, aux, c, a)\n",
    "   \n",
    "        elif (i % 3 == 0):\n",
    "            moveDisksBetweenTwoPoles(aux, dest, a, b)\n",
    "    return contador\n",
    "\n",
    "\n",
    "if __name__ == '__main__':\n",
    "    start = time.time()\n",
    "    # Número de discos\n",
    "    num_of_disks = int(input(\"Ingrese un número de discos: \"))\n",
    "    \n",
    "\n",
    "    # Crear 3 pilas de tamño num_of_disks\n",
    "    src = createStack(num_of_disks)\n",
    "    dest = createStack(num_of_disks)\n",
    "    aux = createStack(num_of_disks)\n",
    "    \n",
    "    conta = tohIterative(num_of_disks, src, aux, dest)\n",
    "    \n",
    "    end = time.time()\n",
    "\n",
    "    print(\"tiempo: \", end - start)\n",
    "    print(\"# de llamadas:\", conta)"
   ]
  },
  {
   "attachments": {},
   "cell_type": "markdown",
   "metadata": {},
   "source": [
    "### B) Hanoi Recursivo"
   ]
  },
  {
   "cell_type": "code",
   "execution_count": 6,
   "metadata": {},
   "outputs": [
    {
     "name": "stdout",
     "output_type": "stream",
     "text": [
      "Disco 1 de ' A ' hacia ' B '\n",
      "Disco 2 de ' A ' hacia ' C '\n",
      "Disco 1 de ' B ' hacia ' C '\n",
      "Disco 3 de ' A ' hacia ' B '\n",
      "Disco 1 de ' C ' hacia ' A '\n",
      "Disco 2 de ' C ' hacia ' B '\n",
      "Disco 1 de ' A ' hacia ' B '\n",
      "tiempo:  1.6065847873687744\n",
      "# de llamadas: 7\n"
     ]
    }
   ],
   "source": [
    "def ToH(n:int, A:str, B:str, C:str) -> int:\n",
    "    contador:int = 1\n",
    "    if n == 1:\n",
    "        print(\"Disco\", n, \"de '\", A, \"' hacia '\", B, \"'\")\n",
    "        return contador\n",
    "    contador += ToH(n-1, A, C, B)\n",
    "    print(\"Disco\", n, \"de '\", A, \"' hacia '\", B, \"'\")\n",
    "    contador += ToH(n-1, C, B, A)\n",
    "    return contador\n",
    "\n",
    "\n",
    "if __name__ == '__main__':\n",
    "    start = time.time()\n",
    "    # Número de discos\n",
    "    n = int(input(\"Ingrese un número de discos: \"))\n",
    "    \n",
    "    conta = ToH(n,'A','B','C')\n",
    "    end = time.time()\n",
    "    # \n",
    "    print(\"tiempo: \", end - start)\n",
    "    print(\"# de llamadas:\", conta)"
   ]
  },
  {
   "attachments": {},
   "cell_type": "markdown",
   "metadata": {},
   "source": [
    "### C) Hanoi Iterativo y Recursivo"
   ]
  },
  {
   "cell_type": "code",
   "execution_count": 5,
   "metadata": {},
   "outputs": [
    {
     "name": "stdout",
     "output_type": "stream",
     "text": [
      "Disco 1 de ' A ' hacia ' B '\n",
      "Disco 2 de ' A ' hacia ' C '\n",
      "Disco 1 de ' B ' hacia ' C '\n",
      "Disco 3 de ' A ' hacia ' B '\n",
      "Disco 1 de ' C ' hacia ' A '\n",
      "Disco 2 de ' C ' hacia ' B '\n",
      "Disco 1 de ' A ' hacia ' B '\n",
      "tiempo:  1.9600865840911865\n",
      "# de llamadas: 2\n"
     ]
    }
   ],
   "source": [
    "\n",
    "def Hanoi(discos:int , A:str, B:str, C:str) -> int:\n",
    "    contador:int = 1\n",
    "    if discos == 1 :\n",
    "        print(\"Disco\", discos, \"de '\", A, \"' hacia '\", B, \"'\")\n",
    "        return contador\n",
    "    if discos % 2 == 0:\n",
    "        aux = B\n",
    "        B = C\n",
    "        C = aux\n",
    "    for n in range(1, discos + 1):\n",
    "        print(\"Disco\", n, \"de '\", A, \"' hacia '\", B, \"'\")\n",
    "        if n == 2:\n",
    "            print(\"Disco\", n-1, \"de '\", C, \"' hacia '\", B, \"'\")\n",
    "        elif n != 1:\n",
    "            contador += Hanoi(n-1, C, B, A)\n",
    "        aux = B\n",
    "        B = C\n",
    "        C = aux\n",
    "    return contador\n",
    "\n",
    "\n",
    "if __name__ == '__main__':\n",
    "    start = time.time()\n",
    "    # Número de discos\n",
    "    n = int(input(\"Ingrese un número de discos: \"))\n",
    "    \n",
    "    \n",
    "    conta = Hanoi(n,'A','B','C')\n",
    "    end = time.time()\n",
    "    \n",
    "    print(\"tiempo: \", end - start)\n",
    "    print(\"# de llamadas:\", conta)"
   ]
  }
 ],
 "metadata": {
  "kernelspec": {
   "display_name": "Python 3",
   "language": "python",
   "name": "python3"
  },
  "language_info": {
   "codemirror_mode": {
    "name": "ipython",
    "version": 3
   },
   "file_extension": ".py",
   "mimetype": "text/x-python",
   "name": "python",
   "nbconvert_exporter": "python",
   "pygments_lexer": "ipython3",
   "version": "3.10.5"
  },
  "orig_nbformat": 4,
  "vscode": {
   "interpreter": {
    "hash": "26de051ba29f2982a8de78e945f0abaf191376122a1563185a90213a26c5da77"
   }
  }
 },
 "nbformat": 4,
 "nbformat_minor": 2
}
