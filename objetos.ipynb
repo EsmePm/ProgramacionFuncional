{
 "cells": [
  {
   "cell_type": "code",
   "execution_count": 2,
   "metadata": {},
   "outputs": [
    {
     "name": "stdout",
     "output_type": "stream",
     "text": [
      "100\n",
      "<class 'function'>\n",
      "140465724131504\n",
      "<function square at 0x7fc0b99708b0>\n"
     ]
    }
   ],
   "source": [
    "a = 10\n",
    "def square(x):\n",
    "    return x*x\n",
    "b = square(a)\n",
    "print(b)\n",
    "# 100\n",
    "print(type(square))\n",
    "print(id(square))\n",
    "print(str(square))"
   ]
  },
  {
   "cell_type": "code",
   "execution_count": 3,
   "metadata": {},
   "outputs": [
    {
     "name": "stdout",
     "output_type": "stream",
     "text": [
      "30\n",
      "30\n"
     ]
    }
   ],
   "source": [
    "t = (10, 20, 30, 40, 50) \n",
    "u=t\n",
    "print(t[2]) # 30 \n",
    "print(u[2]) # 30"
   ]
  },
  {
   "cell_type": "code",
   "execution_count": 4,
   "metadata": {},
   "outputs": [
    {
     "name": "stdout",
     "output_type": "stream",
     "text": [
      "9\n"
     ]
    }
   ],
   "source": [
    "def square(x):\n",
    "        return x*x\n",
    "\n",
    "sq = square\n",
    "\n",
    "a = 3\n",
    "print(sq(a)) # 9"
   ]
  },
  {
   "cell_type": "code",
   "execution_count": 5,
   "metadata": {},
   "outputs": [
    {
     "name": "stdout",
     "output_type": "stream",
     "text": [
      "3 => 7.62\n"
     ]
    }
   ],
   "source": [
    "def inch2cm(x):\n",
    "\treturn x*2.54\n",
    "\n",
    "def convert(x):\n",
    "\ty = inch2cm(x)\n",
    "\tprint(x, '=>', y)\n",
    "\n",
    "convert(3)    # 3 => 7.62"
   ]
  },
  {
   "cell_type": "code",
   "execution_count": 9,
   "metadata": {},
   "outputs": [
    {
     "name": "stdout",
     "output_type": "stream",
     "text": [
      "3 => 7.62\n"
     ]
    }
   ],
   "source": [
    "def convert(f, x):\n",
    "\ty = f(x)\n",
    "\tprint(x, '=>', y) \n",
    "\n",
    "convert(inch2cm, 3) # 3 => 7.62"
   ]
  },
  {
   "cell_type": "code",
   "execution_count": 14,
   "metadata": {},
   "outputs": [
    {
     "name": "stdout",
     "output_type": "stream",
     "text": [
      "0 => zero\n"
     ]
    }
   ],
   "source": [
    "def i2text(x):\n",
    "\ttext = ['zero', 'one', 'two', 'three']\n",
    "\treturn text[x]\n",
    "\n",
    "convert(i2text, 0)    # 2 => two"
   ]
  },
  {
   "cell_type": "code",
   "execution_count": 15,
   "metadata": {},
   "outputs": [
    {
     "name": "stdout",
     "output_type": "stream",
     "text": [
      "[1, 2, 3, 6, 7]\n"
     ]
    }
   ],
   "source": [
    "p = [3, 7, 2, 6, 1]\n",
    "q = sorted(p)\n",
    "\n",
    "print(q) # [1, 2, 3, 6, 7]"
   ]
  },
  {
   "cell_type": "code",
   "execution_count": 16,
   "metadata": {},
   "outputs": [
    {
     "name": "stdout",
     "output_type": "stream",
     "text": [
      "['blue', 'cyan', 'green', 'red', 'yellow']\n"
     ]
    }
   ],
   "source": [
    "p = ['red', 'green', 'blue', 'yellow', 'cyan']\n",
    "q = sorted(p)\n",
    "print(q) # ['blue', 'cyan', 'green', 'red', 'yellow']"
   ]
  },
  {
   "cell_type": "code",
   "execution_count": 17,
   "metadata": {},
   "outputs": [
    {
     "name": "stdout",
     "output_type": "stream",
     "text": [
      "['red', 'blue', 'cyan', 'green', 'yellow']\n"
     ]
    }
   ],
   "source": [
    "p = ['red', 'green', 'blue', 'yellow', 'cyan']\n",
    "q = sorted(p, key=len)\n",
    "print(q) # ['red', 'blue', 'cyan', 'green', 'yellow']"
   ]
  },
  {
   "cell_type": "code",
   "execution_count": 18,
   "metadata": {},
   "outputs": [
    {
     "name": "stdout",
     "output_type": "stream",
     "text": [
      "[(2, 2), (1, 7), (4, 2), (3, 3), (5, 2)]\n"
     ]
    }
   ],
   "source": [
    "def area(x):\n",
    "\treturn x[0]*x[1]\n",
    "\n",
    "p = [(3, 3), (4, 2), (2, 2), (5, 2), (1, 7)]\n",
    "\n",
    "q = sorted(p, key=area)\n",
    "print(q) # [(2, 2), (1, 7), (4, 2), (3, 3), (5, 2)]"
   ]
  },
  {
   "cell_type": "code",
   "execution_count": 19,
   "metadata": {},
   "outputs": [
    {
     "name": "stdout",
     "output_type": "stream",
     "text": [
      "3\n"
     ]
    }
   ],
   "source": [
    "def add1():\n",
    "\treturn lambda x: x + 1\n",
    "    \n",
    "f = add1()\n",
    "print(f(2))"
   ]
  }
 ],
 "metadata": {
  "kernelspec": {
   "display_name": "Python 3.10.6 64-bit",
   "language": "python",
   "name": "python3"
  },
  "language_info": {
   "codemirror_mode": {
    "name": "ipython",
    "version": 3
   },
   "file_extension": ".py",
   "mimetype": "text/x-python",
   "name": "python",
   "nbconvert_exporter": "python",
   "pygments_lexer": "ipython3",
   "version": "3.10.6"
  },
  "orig_nbformat": 4,
  "vscode": {
   "interpreter": {
    "hash": "916dbcbb3f70747c44a77c7bcd40155683ae19c65e1c03b4aa3499c5328201f1"
   }
  }
 },
 "nbformat": 4,
 "nbformat_minor": 2
}
