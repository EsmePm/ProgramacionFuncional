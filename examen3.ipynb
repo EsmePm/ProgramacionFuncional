{
 "cells": [
  {
   "cell_type": "code",
   "execution_count": 119,
   "metadata": {},
   "outputs": [],
   "source": [
    "from math import *"
   ]
  },
  {
   "cell_type": "code",
   "execution_count": 128,
   "metadata": {},
   "outputs": [
    {
     "name": "stdout",
     "output_type": "stream",
     "text": [
      "Ejercicio_1:  6\n"
     ]
    }
   ],
   "source": [
    "def leer_num():\n",
    "    x = int(input(\"Ingrese un numero: \"))\n",
    "    return x\n",
    "\n",
    "def factorial(x):\n",
    "    if (x == 0 or x == 1):\n",
    "        return 1\n",
    "    else:\n",
    "        return x * factorial(x-1)\n",
    "\n",
    "if __name__ == '__main__':\n",
    "    print(\"Ejercicio_1: \",factorial(leer_num()))"
   ]
  },
  {
   "cell_type": "code",
   "execution_count": 136,
   "metadata": {},
   "outputs": [
    {
     "name": "stdout",
     "output_type": "stream",
     "text": [
      "[(('37.54901619777347', '-76.33029518659048'), ('37.840832', '-76.27383399999999'), 7556.001190657538), (('37.840832', '-76.27383399999999'), ('38.331501', '-76.459503'), 7529.739919414059), (('38.331501', '-76.459503'), ('38.843334', '-76.298668'), 7485.361838086369), (('38.843334', '-76.298668'), ('37.549', '-76.331169'), 7439.857771053794), (('37.549', '-76.331169'), ('38.330166', '-76.458504'), 7556.342064591267), (('38.330166', '-76.458504'), ('38.976334', '-76.47350299999999'), 7485.581838809729)]\n"
     ]
    }
   ],
   "source": [
    "\n",
    "def haversine(p1,p2):\n",
    "    lat_1, lon_1 = p1\n",
    "    lat_1, lon_1 = float(lat_1), float(lon_1)\n",
    "    lat_2, lon_2 = p2\n",
    "    lat_2, lon_2 = float(lat_2), float(lon_2)\n",
    "    d_lat = radians(lat_2 - lat_1)\n",
    "    d_lon = radians(lon_2 - lon_1)\n",
    "    lat_1 = radians(lat_1)\n",
    "    lat_2 = radians(lat_2)\n",
    "    a = sqrt(sin(d_lat/2)**2 + cos(lat_1) * cos(lat_2 * sin(d_lon/2)**2))\n",
    "    c = 2 * asin(a)\n",
    "    return 3440 * c\n",
    "\n",
    "def distance(it):\n",
    "    for x in range(len(it)-1):\n",
    "        distancia = haversine(it[x],it[x+1])\n",
    "        yield [it[x],it[x+1], distancia]\n",
    "\n",
    "data = (('37.54901619777347', '-76.33029518659048'), ('37.840832', '-76.27383399999999'), ('38.331501','-76.459503'), ('38.843334', '-76.298668'), ('37.549', '-76.331169'), ('38.330166', '-76.458504'), ('38.976334', '-76.47350299999999'))\n",
    "l2 = []\n",
    "for x in distance(data):\n",
    "    l2.append(tuple(x))\n",
    "print(l2)"
   ]
  },
  {
   "cell_type": "code",
   "execution_count": 135,
   "metadata": {},
   "outputs": [
    {
     "name": "stdout",
     "output_type": "stream",
     "text": [
      "((('37.54901619777347', '-76.33029518659048'), ('37.840832', '-76.27383399999999'), 8695.297339882212), (('37.840832', '-76.27383399999999'), ('38.331501', '-76.459503'), 8665.07638620268), (('38.331501', '-76.459503'), ('38.843334', '-76.298668'), 8614.006964324497), (('38.843334', '-76.298668'), ('37.549', '-76.331169'), 8561.641780275639), (('37.549', '-76.331169'), ('38.330166', '-76.458504'), 8695.689610890964), (('38.330166', '-76.458504'), ('38.976334', '-76.47350299999999'), 8614.260136823592))\n"
     ]
    }
   ],
   "source": [
    "l3 = tuple(map(lambda x : tuple([x[0], x[1], (x[2] * (6076.12/5280))]), l2))\n",
    "print(l3)"
   ]
  }
 ],
 "metadata": {
  "kernelspec": {
   "display_name": "Python 3.10.6 64-bit",
   "language": "python",
   "name": "python3"
  },
  "language_info": {
   "codemirror_mode": {
    "name": "ipython",
    "version": 3
   },
   "file_extension": ".py",
   "mimetype": "text/x-python",
   "name": "python",
   "nbconvert_exporter": "python",
   "pygments_lexer": "ipython3",
   "version": "3.10.6"
  },
  "orig_nbformat": 4,
  "vscode": {
   "interpreter": {
    "hash": "916dbcbb3f70747c44a77c7bcd40155683ae19c65e1c03b4aa3499c5328201f1"
   }
  }
 },
 "nbformat": 4,
 "nbformat_minor": 2
}
