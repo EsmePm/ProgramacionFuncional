{
 "cells": [
  {
   "cell_type": "markdown",
   "metadata": {},
   "source": [
    "# Ejercicio 1.2"
   ]
  },
  {
   "cell_type": "code",
   "execution_count": 1,
   "metadata": {},
   "outputs": [],
   "source": [
    "from statistics import mean"
   ]
  },
  {
   "cell_type": "code",
   "execution_count": 22,
   "metadata": {},
   "outputs": [
    {
     "name": "stdout",
     "output_type": "stream",
     "text": [
      "{'Jairo': ([4.5, 3.2, 6.1], 21, 'H'), 'Yaneth': ([5.4, 2.3, 1.6], 19, 'M'), 'Carlos': ([8.5, 8.2, 8.1], 23, 'H'), 'Anabel': ([9.5, 9.2, 8.1], 17, 'M'), 'Roberto': ([7.5, 7.2, 7.1], 16, 'H')}\n"
     ]
    }
   ],
   "source": [
    "students = (\n",
    "    ('Jairo', [4.5, 3.2, 6.1], 21, 'H'),\n",
    "    ('Yaneth', [5.4, 2.3, 1.6], 19, 'M'),\n",
    "    ('Carlos', [8.5, 8.2, 8.1], 23, 'H'),\n",
    "    ('Anabel', [9.5, 9.2, 8.1], 17, 'M'),\n",
    "    ('Roberto', [7.5, 7.2, 7.1], 16, 'H'),\n",
    ")\n",
    "\n",
    "solution = {i[0]: i[1:] for i in students }\n",
    "print(solution)"
   ]
  },
  {
   "cell_type": "code",
   "execution_count": 19,
   "metadata": {},
   "outputs": [
    {
     "name": "stdout",
     "output_type": "stream",
     "text": [
      "{'Jairo': ([4.5, 3.2, 6.1], 21, 'H'), 'Yaneth': ([5.4, 2.3, 1.6], 19, 'M'), 'Carlos': ([8.5, 8.2, 8.1], 23, 'H')}\n"
     ]
    }
   ],
   "source": [
    "students = (\n",
    "    ('Jairo', [4.5, 3.2, 6.1], 21, 'H'),\n",
    "    ('Yaneth', [5.4, 2.3, 1.6], 19, 'M'),\n",
    "    ('Carlos', [8.5, 8.2, 8.1], 23, 'H'),\n",
    "    ('Anabel', [9.5, 9.2, 8.1], 17, 'M'),\n",
    "    ('Roberto', [7.5, 7.2, 7.1], 16, 'H'),\n",
    ")\n",
    "\n",
    "solution = {i[0]: i[1:] for i in students if i[2] >= 18}\n",
    "print(solution)"
   ]
  },
  {
   "cell_type": "code",
   "execution_count": 21,
   "metadata": {},
   "outputs": [
    {
     "name": "stdout",
     "output_type": "stream",
     "text": [
      "{'Anabel': ([9.5, 9.2, 8.1], 17, 'M')}\n"
     ]
    }
   ],
   "source": [
    "students = (\n",
    "    ('Jairo', [4.5, 3.2, 6.1], 21, 'H'),\n",
    "    ('Yaneth', [5.4, 2.3, 1.6], 19, 'M'),\n",
    "    ('Carlos', [8.5, 8.2, 8.1], 23, 'H'),\n",
    "    ('Anabel', [9.5, 9.2, 8.1], 17, 'M'),\n",
    "    ('Roberto', [7.5, 7.2, 7.1], 16, 'H'),\n",
    ")\n",
    "\n",
    "solution = {i[0]: i[1:] for i in students if i[2] <= 18  if i[3] =='M'} \n",
    "print(solution)"
   ]
  },
  {
   "cell_type": "code",
   "execution_count": 4,
   "metadata": {},
   "outputs": [
    {
     "name": "stdout",
     "output_type": "stream",
     "text": [
      "{'Carlos': {'cal': [8.5, 8.2, 8.1], 'edad': 23, 'sexo': 'H'}, 'Anabel': {'cal': [9.5, 9.2, 8.1], 'edad': 17, 'sexo': 'M'}, 'Roberto': {'cal': [7.5, 7.2, 7.1], 'edad': 16, 'sexo': 'H'}}\n"
     ]
    }
   ],
   "source": [
    "students = (\n",
    "    ('Jairo', [4.5, 3.2, 6.1], 21, 'H'),\n",
    "    ('Yaneth', [5.4, 2.3, 1.6], 19, 'M'),\n",
    "    ('Carlos', [8.5, 8.2, 8.1], 23, 'H'),\n",
    "    ('Anabel', [9.5, 9.2, 8.1], 17, 'M'),\n",
    "    ('Roberto', [7.5, 7.2, 7.1], 16, 'H'),\n",
    ")\n",
    "\n",
    "solution = {i[0]: {'cal': i[1], 'edad':i[2], 'sexo' : i[3]} for i in students if mean(i[1])>=6.0}\n",
    "print(solution)"
   ]
  }
 ],
 "metadata": {
  "kernelspec": {
   "display_name": "Python 3.10.6 64-bit",
   "language": "python",
   "name": "python3"
  },
  "language_info": {
   "codemirror_mode": {
    "name": "ipython",
    "version": 3
   },
   "file_extension": ".py",
   "mimetype": "text/x-python",
   "name": "python",
   "nbconvert_exporter": "python",
   "pygments_lexer": "ipython3",
   "version": "3.10.6"
  },
  "orig_nbformat": 4,
  "vscode": {
   "interpreter": {
    "hash": "916dbcbb3f70747c44a77c7bcd40155683ae19c65e1c03b4aa3499c5328201f1"
   }
  }
 },
 "nbformat": 4,
 "nbformat_minor": 2
}
