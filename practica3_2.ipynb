{
 "cells": [
  {
   "cell_type": "code",
   "execution_count": null,
   "metadata": {},
   "outputs": [],
   "source": [
    "import csv\n",
    "import operator"
   ]
  },
  {
   "cell_type": "markdown",
   "metadata": {},
   "source": [
    "##### Lectura del csv"
   ]
  },
  {
   "cell_type": "code",
   "execution_count": null,
   "metadata": {},
   "outputs": [],
   "source": [
    "def read_csv(s:str) -> tuple:\n",
    "    with open(s) as csvfile:\n",
    "        l1 = []\n",
    "        equipos = csv.reader(csvfile, delimiter = ',')\n",
    "        columnas = next(equipos)\n",
    "        for equipo in equipos:\n",
    "            iterador = zip(columnas,equipo)\n",
    "            l1.append(tuple(valor for clave, valor in iterador))\n",
    "        return tuple(l1)"
   ]
  },
  {
   "cell_type": "markdown",
   "metadata": {},
   "source": [
    "##### Lo que devuelve la función read_csv se le pasa a la función local_winner para obtener los ganadores locales"
   ]
  },
  {
   "cell_type": "code",
   "execution_count": null,
   "metadata": {},
   "outputs": [],
   "source": [
    "def local_winner(t: tuple) -> tuple:\n",
    "    l = list(filter(lambda x : x[5] == 'H', t))\n",
    "    return tuple(l)\n",
    "\n",
    "if __name__ == '__main__':\n",
    "    print(local_winner(read_csv('./soccer_df3.csv')))"
   ]
  },
  {
   "cell_type": "markdown",
   "metadata": {},
   "source": [
    "##### Lo que devuelve la función local_winner se le pasa a la función goal_count para obtener los goles de cada equipo como local y los goles recibido de los equipos visitantes"
   ]
  },
  {
   "cell_type": "code",
   "execution_count": null,
   "metadata": {},
   "outputs": [],
   "source": [
    "def goal_count(it: tuple) -> list:\n",
    "    lisF = []\n",
    "    for team in it:\n",
    "        b = True\n",
    "        for i in lisF:\n",
    "            if i['HomeTeam'] == team[1] and i['AwayTeam'] == team[2]:\n",
    "                i['TotalFTHG'] = operator.add(i['TotalFTHG'], int(team[3]))\n",
    "                i['TotalFTAG'] = operator.add(i['TotalFTAG'], int(team[4]))\n",
    "                b = False\n",
    "        if b:\n",
    "            lisF.append({'HomeTeam': team[1], 'AwayTeam': team[2],'TotalFTHG': int(team[3]),'TotalFTAG': int(team[4])})\n",
    "    return lisF\n",
    "    \n",
    "if __name__ == '__main__':\n",
    "    print(goal_count(local_winner(read_csv('./soccer_df3.csv'))))"
   ]
  },
  {
   "cell_type": "markdown",
   "metadata": {},
   "source": [
    "##### Lo que devuelve la función goal_count se le pasa a la función percentage para obtener los equipos que el 85% del total de los goles hayan sido como locales, es decir, que a partir del total de los goles anotado y recibos (100%), el 85% sean goles locales"
   ]
  },
  {
   "cell_type": "code",
   "execution_count": null,
   "metadata": {},
   "outputs": [],
   "source": [
    "def percentage(k: list) -> list:\n",
    "    list1 = list(map(lambda x : {'HomeTeam': x['HomeTeam'], 'Porcentaje': (x['TotalFTHG']*100)/(x['TotalFTHG']+x['TotalFTAG'])}, filter(lambda x : (x['TotalFTHG']*100)/(x['TotalFTHG']+x['TotalFTAG']) > 85, k)))\n",
    "    return list1\n",
    "\n",
    "if __name__ == '__main__':\n",
    "    print(percentage(goal_count(local_winner(read_csv('./soccer_df3.csv')))))"
   ]
  }
 ],
 "metadata": {
  "kernelspec": {
   "display_name": "Python 3.10.6 64-bit",
   "language": "python",
   "name": "python3"
  },
  "language_info": {
   "codemirror_mode": {
    "name": "ipython",
    "version": 3
   },
   "file_extension": ".py",
   "mimetype": "text/x-python",
   "name": "python",
   "nbconvert_exporter": "python",
   "pygments_lexer": "ipython3",
   "version": "3.10.6"
  },
  "orig_nbformat": 4,
  "vscode": {
   "interpreter": {
    "hash": "916dbcbb3f70747c44a77c7bcd40155683ae19c65e1c03b4aa3499c5328201f1"
   }
  }
 },
 "nbformat": 4,
 "nbformat_minor": 2
}
