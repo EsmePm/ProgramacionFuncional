{
 "cells": [
  {
   "cell_type": "code",
   "execution_count": null,
   "metadata": {},
   "outputs": [],
   "source": [
    "def make_pow(x):\n",
    "    def potencia(b):\n",
    "        print(pow (b, x))\n",
    "    return potencia\n",
    "\n",
    "if __name__ == '__main__':\n",
    "    #n = int ( input (\"Ingresa un número: \"))\n",
    "    f1 = make_pow(2)\n",
    "    f1(2)\n",
    "    "
   ]
  },
  {
   "cell_type": "code",
   "execution_count": 2,
   "metadata": {},
   "outputs": [
    {
     "name": "stdout",
     "output_type": "stream",
     "text": [
      "[2, 6, 2, 0]\n",
      "[3.2, 6.6, 2.9, 1.1]\n"
     ]
    }
   ],
   "source": [
    "a = [2.2, 5.6, 1.9, 0.1]\n",
    "b = map(round, a) # el resultado de map es un iterable\n",
    "print(list(b))\n",
    "\n",
    "#add_one_lambda = lambda x : x+ 1   #se pude sustituir la lambda así\n",
    "c = map(lambda x : x+1, a)\n",
    "print(list(c))"
   ]
  },
  {
   "cell_type": "code",
   "execution_count": null,
   "metadata": {},
   "outputs": [],
   "source": [
    "def addn(n):\n",
    "    def add(x):\n",
    "        return x+n\n",
    "    return add\n",
    "\n",
    "a = [2.2, 5.6, 1.9, 0.1]\n",
    "add_one = addn(1)\n",
    "add_two = addn(2)\n",
    "d = map(add_one, a)\n",
    "print(list(d))\n",
    "\n",
    "d = map(addn(5))"
   ]
  }
 ],
 "metadata": {
  "kernelspec": {
   "display_name": "Python 3.10.5 64-bit",
   "language": "python",
   "name": "python3"
  },
  "language_info": {
   "codemirror_mode": {
    "name": "ipython",
    "version": 3
   },
   "file_extension": ".py",
   "mimetype": "text/x-python",
   "name": "python",
   "nbconvert_exporter": "python",
   "pygments_lexer": "ipython3",
   "version": "3.10.5"
  },
  "orig_nbformat": 4,
  "vscode": {
   "interpreter": {
    "hash": "26de051ba29f2982a8de78e945f0abaf191376122a1563185a90213a26c5da77"
   }
  }
 },
 "nbformat": 4,
 "nbformat_minor": 2
}
