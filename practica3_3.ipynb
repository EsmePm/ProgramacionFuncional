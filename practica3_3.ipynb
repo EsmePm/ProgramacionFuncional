{
 "cells": [
  {
   "cell_type": "code",
   "execution_count": 1,
   "metadata": {},
   "outputs": [],
   "source": [
    "import json\n",
    "import functools"
   ]
  },
  {
   "cell_type": "code",
   "execution_count": 4,
   "metadata": {},
   "outputs": [
    {
     "name": "stdout",
     "output_type": "stream",
     "text": [
      "6.307142157343\n"
     ]
    }
   ],
   "source": [
    "def opssumcount(a, b):\n",
    "    return (b[0], a[1]+b[1])\n",
    "\n",
    "with open(\"stopwords-en.txt\",\"r\") as txt:\n",
    "\tstop_words = []\n",
    "\tfor i in txt:\n",
    "\t\tstop_words.append(i.strip('\\n'))\n",
    "\t\n",
    "with open('News_Category_Dataset_v3.json') as j:\n",
    "    news = [json.loads(line) for line in j]\n",
    "    lis = list(map(lambda x : x[\"short_description\"], news))\n",
    "    l = []\n",
    "    for i in lis: \n",
    "        l += i.split()\n",
    "    s = list(filter(lambda x : x not in stop_words, l))\n",
    "    m = list(map(len, s))\n",
    "    count, total = functools.reduce(opssumcount, enumerate(m, 1))\n",
    "    avg = total / count\n",
    "    print(avg)"
   ]
  }
 ],
 "metadata": {
  "kernelspec": {
   "display_name": "Python 3.10.6 64-bit",
   "language": "python",
   "name": "python3"
  },
  "language_info": {
   "codemirror_mode": {
    "name": "ipython",
    "version": 3
   },
   "file_extension": ".py",
   "mimetype": "text/x-python",
   "name": "python",
   "nbconvert_exporter": "python",
   "pygments_lexer": "ipython3",
   "version": "3.10.6"
  },
  "orig_nbformat": 4,
  "vscode": {
   "interpreter": {
    "hash": "916dbcbb3f70747c44a77c7bcd40155683ae19c65e1c03b4aa3499c5328201f1"
   }
  }
 },
 "nbformat": 4,
 "nbformat_minor": 2
}
