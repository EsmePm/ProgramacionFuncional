{
 "cells": [
  {
   "cell_type": "markdown",
   "metadata": {},
   "source": [
    "# Proyecto 1.2"
   ]
  },
  {
   "cell_type": "code",
   "execution_count": 1,
   "metadata": {},
   "outputs": [],
   "source": [
    "import csv\n",
    "from statistics import mean"
   ]
  },
  {
   "cell_type": "markdown",
   "metadata": {},
   "source": [
    "##### 1.Crear una lista de diccionarios con todos los registros y todas columnas del csv"
   ]
  },
  {
   "cell_type": "code",
   "execution_count": null,
   "metadata": {},
   "outputs": [],
   "source": [
    "with open('./exams.csv') as csvfile:\n",
    "    list = []\n",
    "    students = csv.reader(csvfile, delimiter = ',')\n",
    "    columnas = next(students)\n",
    "    for student in students:\n",
    "        iterador = zip(columnas,student)\n",
    "        list.append({clave:valor for clave, valor in iterador})\n",
    "    print(list)"
   ]
  },
  {
   "cell_type": "markdown",
   "metadata": {},
   "source": [
    "##### 2. Crear una lista de listas con todos los registros del csv donde el gender sea male"
   ]
  },
  {
   "cell_type": "code",
   "execution_count": null,
   "metadata": {},
   "outputs": [],
   "source": [
    "with open('./exams.csv') as csvfile:\n",
    "    list = []\n",
    "    students = csv.reader(csvfile, delimiter = ',')\n",
    "    columnas = next(students)\n",
    "    for student in students:\n",
    "        iterador = zip(columnas,student)\n",
    "        list.append([studen for studen in student if student[0]=='male'])\n",
    "        list = [lista for lista in list if lista != []]\n",
    "    print(list)"
   ]
  },
  {
   "cell_type": "markdown",
   "metadata": {},
   "source": [
    "##### 3. Crear una lista de diccionarios donde solo aparezcan el gender, test preparation course y math score"
   ]
  },
  {
   "cell_type": "code",
   "execution_count": null,
   "metadata": {},
   "outputs": [],
   "source": [
    "with open('./exams.csv') as csvfile:\n",
    "    list = []\n",
    "    students = csv.reader(csvfile, delimiter = ',')\n",
    "    columnas = next(students)\n",
    "    for student in students:\n",
    "        iterador = zip(columnas,student)\n",
    "        list.append({clave: valor for clave, valor in iterador if clave == 'gender' or clave == 'test preparation course' or clave == 'math score'})\n",
    "    print(list)"
   ]
  },
  {
   "cell_type": "markdown",
   "metadata": {},
   "source": [
    "##### 4. Crear una lista de diccionarios de todos los registros donde race/ethnicity sea group D"
   ]
  },
  {
   "cell_type": "code",
   "execution_count": null,
   "metadata": {},
   "outputs": [],
   "source": [
    "with open('./exams.csv') as csvfile:\n",
    "    list = []\n",
    "    students = csv.reader(csvfile, delimiter = ',')\n",
    "    columnas = next(students)\n",
    "    for student in students:\n",
    "        iterador = zip(columnas,student)\n",
    "        dir_Student = {clave: valor for clave, valor in iterador if student[1]=='group D'}\n",
    "        list.append(dir_Student)\n",
    "        list = [lista for lista in list if lista != {}]\n",
    "    print(list)"
   ]
  },
  {
   "cell_type": "markdown",
   "metadata": {},
   "source": [
    "##### 5. Crear una lista de diccionarios que solo tenga race/ethnicity y test preparation score"
   ]
  },
  {
   "cell_type": "code",
   "execution_count": null,
   "metadata": {},
   "outputs": [],
   "source": [
    "with open('./exams.csv') as csvfile:\n",
    "    list = []\n",
    "    students = csv.reader(csvfile, delimiter = ',')\n",
    "    columnas = next(students)\n",
    "    for student in students:\n",
    "        iterador = zip(columnas,student)\n",
    "        list.append({clave: valor for clave, valor in iterador if clave == 'race/ethnicity' or clave == 'test preparation course'})\n",
    "    print(list)"
   ]
  },
  {
   "cell_type": "markdown",
   "metadata": {},
   "source": [
    "##### 6. Crear un diccionario de diccionarios que solo tenga race/ethnicity y test preparation score"
   ]
  },
  {
   "cell_type": "code",
   "execution_count": null,
   "metadata": {},
   "outputs": [],
   "source": [
    "with open('./exams.csv') as csvfile:\n",
    "    list = {}\n",
    "    students = csv.reader(csvfile, delimiter = ',')\n",
    "    columnas = next(students)\n",
    "    cont = 1\n",
    "    for student in students:\n",
    "        iterador = zip(columnas,student)\n",
    "        list['Estudiante '+str(cont)] = {clave: valor for clave, valor in iterador if clave == 'race/ethnicity' or clave == 'test preparation course'}\n",
    "        cont += 1\n",
    "    print(list)"
   ]
  },
  {
   "cell_type": "markdown",
   "metadata": {},
   "source": [
    "##### 7. Crear un diccionario de diccionarios con todos los registros y todas columnas del csv, excepto: math score,reading score,writing score, todos estos datos excluidos deben ser agregados a cada diccionario en una lista con la clave: Score"
   ]
  },
  {
   "cell_type": "code",
   "execution_count": null,
   "metadata": {},
   "outputs": [],
   "source": [
    "with open('./exams.csv') as csvfile:\n",
    "    list = {}\n",
    "    students = csv.reader(csvfile, delimiter = ',')\n",
    "    columnas = next(students)\n",
    "    del columnas[5:8]\n",
    "    cont = 1\n",
    "    for student in students:\n",
    "        list_students = []\n",
    "        iterador = zip(columnas,student)\n",
    "        l = {clave: valor for clave, valor in iterador}\n",
    "        for i in range(5,8):\n",
    "            list_students.append(student[i])\n",
    "        l['Score'] = list_students\n",
    "        list['Estudiante '+ str(cont)] = l\n",
    "        cont += 1\n",
    "    print(list)"
   ]
  },
  {
   "cell_type": "markdown",
   "metadata": {},
   "source": [
    "##### 8. Crear un diccionario de tuplas en donde la tupla contenga math score, reading score, writing score"
   ]
  },
  {
   "cell_type": "code",
   "execution_count": null,
   "metadata": {},
   "outputs": [],
   "source": [
    "with open('./exams.csv') as csvfile:\n",
    "    dicc = {}\n",
    "    students = csv.reader(csvfile, delimiter = ',')\n",
    "    columnas = next(students)\n",
    "    cont = 1\n",
    "    for student in students:\n",
    "        dicc['Estudiante '+str(cont)] = {tuple ([student[5],student[6],student[7]]) }\n",
    "        cont +=1\n",
    "    print(dicc)"
   ]
  },
  {
   "cell_type": "markdown",
   "metadata": {},
   "source": [
    "##### 9. Crear un diccionario de diccionarios que solo tenga estudiantes de gender female."
   ]
  },
  {
   "cell_type": "code",
   "execution_count": null,
   "metadata": {},
   "outputs": [],
   "source": [
    "with open('./exams.csv') as csvfile:\n",
    "    list = {}\n",
    "    students = csv.reader(csvfile, delimiter = ',')\n",
    "    columnas = next(students)\n",
    "    cont = 1\n",
    "    for student in students:\n",
    "        iterador = zip(columnas,student)\n",
    "        if student[0] == 'female':\n",
    "            list['Estudiante '+str(cont)] = {clave: valor for clave, valor in iterador}\n",
    "            cont += 1\n",
    "    print(list)"
   ]
  },
  {
   "cell_type": "markdown",
   "metadata": {},
   "source": [
    "##### 10. Crear un diccionario de tuplas, donde la tupla contenga gender, race/ethnicity y el promedio de las columnas: math score, reading score y writing score."
   ]
  },
  {
   "cell_type": "code",
   "execution_count": null,
   "metadata": {},
   "outputs": [],
   "source": [
    "with open('./exams.csv') as csvfile:\n",
    "    dicc = {}\n",
    "    list_aux = []\n",
    "    students = csv.reader(csvfile, delimiter = ',')\n",
    "    columnas = next(students)\n",
    "    cont = 1\n",
    "    for student in students:\n",
    "        for i in range(5,8):\n",
    "            list_aux.append(int(student[i]))\n",
    "        dicc['Estudiante '+str(cont)] = {tuple ([student[0],student[1],mean(list_aux)])}\n",
    "        cont +=1\n",
    "    print(dicc)"
   ]
  },
  {
   "cell_type": "markdown",
   "metadata": {},
   "source": [
    "##### 11. Crear un conjunto de todos los estudiantes que sus elementos estan formados por una tupla : gender, race/ethnicity y test preparation course  donde teste preparation course sea completo."
   ]
  },
  {
   "cell_type": "code",
   "execution_count": 12,
   "metadata": {},
   "outputs": [
    {
     "name": "stdout",
     "output_type": "stream",
     "text": [
      "{('female', 'group E', 'completed'), ('female', 'group A', 'completed'), ('male', 'group A', 'completed'), ('male', 'group E', 'completed'), ('male', 'group D', 'completed'), ('female', 'group C', 'completed'), ('female', 'group D', 'completed'), ('male', 'group B', 'completed'), ('female', 'group B', 'completed'), ('male', 'group C', 'completed')}\n"
     ]
    }
   ],
   "source": [
    "with open('./exams.csv') as csvfile:\n",
    "    students = csv.reader(csvfile, delimiter = ',')\n",
    "    columnas = next(students)\n",
    "    conjunt = set()\n",
    "    for student in students:\n",
    "        if student[4]=='completed':\n",
    "            conjunt.add(tuple([student[0],student[1],student[4]]))\n",
    "    print(conjunt)"
   ]
  },
  {
   "cell_type": "markdown",
   "metadata": {},
   "source": [
    "##### 12. Crear un conjunto de todos los estudiantes que sus elementos estan formados por una tupla : parental level of education, lunch y test preparation course, donde parental level of education no sea high school."
   ]
  },
  {
   "cell_type": "code",
   "execution_count": null,
   "metadata": {},
   "outputs": [],
   "source": [
    "with open('./exams.csv') as csvfile:\n",
    "    students = csv.reader(csvfile, delimiter = ',')\n",
    "    columnas = next(students)\n",
    "    conjunt = set()\n",
    "    for student in students:\n",
    "        if student[2]!='high school':\n",
    "            conjunt.add(tuple([student[2],student[3],student[4]]))\n",
    "    print(conjunt)"
   ]
  },
  {
   "cell_type": "markdown",
   "metadata": {},
   "source": [
    "#### 13. Crear un conjunto todos los estudiantes que sus elementos estan formados por una tupla: gender, race/ethnicity y el promedio donde el promedio de match score, reading score y writing score sea mayor o igual a 60."
   ]
  },
  {
   "cell_type": "code",
   "execution_count": null,
   "metadata": {},
   "outputs": [],
   "source": [
    "with open('./exams.csv') as csvfile:\n",
    "    students = csv.reader(csvfile, delimiter = ',')\n",
    "    columnas = next(students)\n",
    "    conjunt = set()\n",
    "    for student in students:\n",
    "        list_aux = []\n",
    "        for a in range(5,8):\n",
    "            list_aux.append(int(student[a]))\n",
    "        if mean(list_aux) >=  60:\n",
    "            conjunt.add(tuple([student[0],student[1],mean(list_aux)]))\n",
    "    print(conjunt)"
   ]
  },
  {
   "cell_type": "markdown",
   "metadata": {},
   "source": [
    "#### 14. Crear un conjunto todos los estudiantes que sus elementos estan formados por una tupla: gender, race/ethnicity y el promedio donde el promedio de match score, reading score y writing score sea igual a 60. "
   ]
  },
  {
   "cell_type": "code",
   "execution_count": 15,
   "metadata": {},
   "outputs": [
    {
     "name": "stdout",
     "output_type": "stream",
     "text": [
      "{('male', 'group C', 60), ('female', 'group B', 60), ('female', 'group E', 60), ('female', 'group C', 60)}\n"
     ]
    }
   ],
   "source": [
    "with open('./exams.csv') as csvfile:\n",
    "    students = csv.reader(csvfile, delimiter = ',')\n",
    "    columnas = next(students)\n",
    "    conjunt = set()\n",
    "    for student in students:\n",
    "        list_aux = []\n",
    "        for a in range(5,8):\n",
    "            list_aux.append(int(student[a]))\n",
    "        if mean(list_aux) ==  60:\n",
    "            conjunt.add(tuple([student[0],student[1],mean(list_aux)]))\n",
    "    print(conjunt)"
   ]
  },
  {
   "cell_type": "markdown",
   "metadata": {},
   "source": [
    "#### 15. Crear un conjunto todos los estudiantes que sus elementos estan formados por una tupla: gender, race/ethnicity y el promedio de match score, reading score y writing score donde el gender sea female. "
   ]
  },
  {
   "cell_type": "code",
   "execution_count": 16,
   "metadata": {},
   "outputs": [
    {
     "name": "stdout",
     "output_type": "stream",
     "text": [
      "{('female', 'group D', 72), ('female', 'group C', 56.666666666666664), ('female', 'group C', 77), ('female', 'group D', 47.333333333333336), ('female', 'group D', 56.333333333333336), ('female', 'group C', 65.33333333333333), ('female', 'group D', 81.33333333333333), ('female', 'group A', 82.33333333333333), ('female', 'group D', 90.33333333333333), ('female', 'group C', 49.666666666666664), ('female', 'group E', 88.66666666666667), ('female', 'group B', 45), ('female', 'group C', 72.66666666666667), ('female', 'group D', 79.66666666666667), ('female', 'group B', 63.666666666666664), ('female', 'group D', 83.33333333333333), ('female', 'group B', 84), ('female', 'group C', 72), ('female', 'group C', 81), ('female', 'group D', 51.333333333333336), ('female', 'group C', 65.66666666666667), ('female', 'group A', 61.333333333333336), ('female', 'group D', 72.66666666666667), ('female', 'group A', 82.66666666666667), ('female', 'group C', 56.333333333333336), ('female', 'group D', 76.33333333333333), ('female', 'group D', 85.33333333333333), ('female', 'group C', 44.666666666666664), ('female', 'group D', 90), ('female', 'group C', 58.333333333333336), ('female', 'group D', 92.66666666666667), ('female', 'group A', 72), ('female', 'group C', 88.66666666666667), ('female', 'group B', 72.66666666666667), ('female', 'group B', 54.333333333333336), ('female', 'group B', 63.333333333333336), ('female', 'group C', 76), ('female', 'group D', 83), ('female', 'group D', 37), ('female', 'group D', 76.66666666666667), ('female', 'group B', 63), ('female', 'group D', 85.66666666666667), ('female', 'group C', 60.333333333333336), ('female', 'group D', 46.666666666666664), ('female', 'group C', 60), ('female', 'group E', 60), ('female', 'group E', 78), ('female', 'group C', 69.33333333333333), ('female', 'group C', 62.666666666666664), ('female', 'group B', 67), ('female', 'group C', 55.333333333333336), ('female', 'group C', 37), ('female', 'group C', 46), ('female', 'group C', 85.66666666666667), ('female', 'group D', 71), ('female', 'group B', 60.333333333333336), ('female', 'group C', 55.666666666666664), ('female', 'group B', 51), ('female', 'group E', 89.33333333333333), ('female', 'group B', 85.33333333333333), ('female', 'group E', 73), ('female', 'group E', 98.33333333333333), ('female', 'group B', 60), ('female', 'group D', 55.333333333333336), ('female', 'group D', 68.33333333333333), ('female', 'group C', 69.66666666666667), ('female', 'group C', 64.33333333333333), ('female', 'group C', 78.66666666666667), ('female', 'group B', 60.666666666666664), ('female', 'group C', 82.33333333333333), ('female', 'group C', 96.66666666666667), ('female', 'group C', 66), ('female', 'group D', 91), ('female', 'group B', 62), ('female', 'group A', 46), ('female', 'group E', 57.666666666666664), ('female', 'group B', 37.333333333333336), ('female', 'group C', 89.66666666666667), ('female', 'group C', 84.33333333333333), ('female', 'group D', 66), ('female', 'group D', 75), ('female', 'group B', 55), ('female', 'group D', 93), ('female', 'group C', 80), ('female', 'group A', 78.66666666666667), ('female', 'group B', 64), ('female', 'group C', 64.66666666666667), ('female', 'group D', 59.333333333333336), ('female', 'group B', 73), ('female', 'group B', 55.666666666666664), ('female', 'group C', 43), ('female', 'group D', 84.33333333333333), ('female', 'group D', 59), ('female', 'group E', 73.66666666666667), ('female', 'group B', 57.333333333333336), ('female', 'group D', 77), ('female', 'group B', 73.33333333333333), ('female', 'group C', 61.666666666666664), ('female', 'group E', 100), ('female', 'group B', 66.33333333333333), ('female', 'group D', 79), ('female', 'group C', 75), ('female', 'group D', 45.333333333333336), ('female', 'group B', 59), ('female', 'group D', 84.66666666666667), ('female', 'group C', 59.333333333333336), ('female', 'group D', 79.33333333333333)}\n"
     ]
    }
   ],
   "source": [
    "with open('./exams.csv') as csvfile:\n",
    "    students = csv.reader(csvfile, delimiter = ',')\n",
    "    columnas = next(students)\n",
    "    conjunt = set()\n",
    "    for student in students:\n",
    "        list_aux = []\n",
    "        for a in range(5,8):\n",
    "            list_aux.append(int(student[a]))\n",
    "        if student[0] ==  'female':\n",
    "            conjunt.add(tuple([student[0],student[1],mean(list_aux)]))\n",
    "    print(conjunt)"
   ]
  },
  {
   "cell_type": "markdown",
   "metadata": {},
   "source": [
    "#### 16. Mediante operación de conjuntos unir los conjuntos del ejercicio 11 y 12 ."
   ]
  },
  {
   "cell_type": "code",
   "execution_count": 17,
   "metadata": {},
   "outputs": [
    {
     "name": "stdout",
     "output_type": "stream",
     "text": [
      "{('female', 'group E', 'completed'), ('female', 'group A', 'completed'), ('male', 'group A', 'completed'), ('female', 'group C', 'none'), ('male', 'group E', 'completed'), ('female', 'group B', 'none'), ('female', 'group D', 'none'), ('male', 'group D', 'completed'), ('female', 'group C', 'completed'), ('female', 'group E', 'none'), ('female', 'group D', 'completed'), ('male', 'group B', 'completed'), ('female', 'group B', 'completed'), ('male', 'group C', 'completed')}\n"
     ]
    }
   ],
   "source": [
    "with open('./exams.csv') as csvfile:\n",
    "    students = csv.reader(csvfile, delimiter = ',')\n",
    "    columnas = next(students)\n",
    "    conjunto11 = set()\n",
    "    conjunto12 = set()\n",
    "    conjuntoFinal = set()\n",
    "    for student in students:\n",
    "        if student[4]=='completed':\n",
    "            conjunto11.add(tuple([student[0],student[1],student[4]]))\n",
    "        if student[0] =='female' and student[1]!='group A':\n",
    "            conjunto12.add(tuple([student[0],student[1],student[4]]))\n",
    "    conjuntoFinal = conjunto11.union(conjunto12)\n",
    "    print(conjuntoFinal)"
   ]
  },
  {
   "cell_type": "markdown",
   "metadata": {},
   "source": [
    "#### 17. Mediante operación de conjuntos obtener los estudiantes que se encuentran en el conjunto del ejercicio 13 pero no en el conjunto del ejercicio 14."
   ]
  },
  {
   "cell_type": "code",
   "execution_count": 18,
   "metadata": {},
   "outputs": [
    {
     "name": "stdout",
     "output_type": "stream",
     "text": [
      "{('female', 'group D', 72), ('female', 'group C', 77), ('female', 'group C', 65.33333333333333), ('male', 'group A', 65.66666666666667), ('female', 'group D', 81.33333333333333), ('female', 'group A', 82.33333333333333), ('female', 'group D', 90.33333333333333), ('female', 'group E', 88.66666666666667), ('male', 'group A', 65), ('female', 'group C', 72.66666666666667), ('female', 'group D', 79.66666666666667), ('female', 'group B', 63.666666666666664), ('male', 'group B', 71.66666666666667), ('female', 'group D', 83.33333333333333), ('female', 'group B', 84), ('male', 'group B', 62.333333333333336), ('male', 'group E', 78), ('male', 'group C', 62.333333333333336), ('male', 'group D', 91), ('male', 'group D', 66.66666666666667), ('female', 'group C', 72), ('male', 'group E', 66.33333333333333), ('male', 'group B', 62), ('male', 'group D', 75.66666666666667), ('female', 'group C', 81), ('male', 'group B', 71), ('female', 'group A', 61.333333333333336), ('male', 'group E', 62.333333333333336), ('female', 'group C', 65.66666666666667), ('female', 'group D', 72.66666666666667), ('male', 'group C', 71), ('female', 'group A', 82.66666666666667), ('male', 'group B', 62.666666666666664), ('female', 'group D', 76.33333333333333), ('female', 'group D', 85.33333333333333), ('male', 'group D', 91.33333333333333), ('male', 'group C', 73.66666666666667), ('male', 'group B', 71.33333333333333), ('male', 'group E', 89), ('male', 'group B', 80.33333333333333), ('female', 'group D', 90), ('male', 'group B', 73), ('male', 'group C', 64), ('male', 'group E', 80.33333333333333), ('female', 'group D', 92.66666666666667), ('male', 'group C', 66.66666666666667), ('female', 'group A', 72), ('male', 'group E', 73), ('female', 'group C', 88.66666666666667), ('female', 'group B', 72.66666666666667), ('male', 'group A', 69.33333333333333), ('male', 'group B', 64.33333333333333), ('male', 'group D', 86), ('male', 'group B', 73.33333333333333), ('female', 'group B', 63.333333333333336), ('male', 'group D', 70.66666666666667), ('female', 'group C', 76), ('male', 'group C', 73.33333333333333), ('female', 'group D', 83), ('male', 'group D', 61.333333333333336), ('female', 'group D', 76.66666666666667), ('female', 'group B', 63), ('female', 'group D', 85.66666666666667), ('female', 'group C', 60.333333333333336), ('male', 'group E', 66), ('male', 'group D', 70), ('male', 'group A', 76.66666666666667), ('male', 'group B', 75.33333333333333), ('male', 'group B', 77), ('female', 'group E', 78), ('male', 'group E', 84.33333333333333), ('female', 'group C', 69.33333333333333), ('male', 'group C', 61.333333333333336), ('male', 'group D', 65.66666666666667), ('male', 'group D', 90), ('male', 'group C', 77.33333333333333), ('female', 'group C', 62.666666666666664), ('male', 'group C', 86.33333333333333), ('female', 'group B', 67), ('male', 'group E', 82.66666666666667), ('male', 'group B', 61.666666666666664), ('male', 'group E', 91.66666666666667), ('male', 'group E', 61), ('female', 'group C', 85.66666666666667), ('male', 'group B', 75.66666666666667), ('male', 'group D', 83), ('female', 'group D', 71), ('female', 'group B', 60.333333333333336), ('male', 'group C', 75.66666666666667), ('male', 'group C', 70.33333333333333), ('female', 'group E', 89.33333333333333), ('male', 'group C', 93.66666666666667), ('female', 'group B', 85.33333333333333), ('female', 'group E', 73), ('female', 'group E', 98.33333333333333), ('female', 'group D', 68.33333333333333), ('male', 'group D', 74.33333333333333), ('female', 'group C', 69.66666666666667), ('female', 'group C', 64.33333333333333), ('male', 'group E', 88.33333333333333), ('female', 'group B', 60.666666666666664), ('female', 'group C', 78.66666666666667), ('male', 'group C', 63.666666666666664), ('female', 'group C', 82.33333333333333), ('female', 'group C', 96.66666666666667), ('female', 'group C', 66), ('male', 'group E', 63.666666666666664), ('male', 'group C', 77.66666666666667), ('male', 'group C', 81.33333333333333), ('female', 'group D', 91), ('male', 'group D', 67.33333333333333), ('female', 'group B', 62), ('male', 'group D', 76.33333333333333), ('male', 'group E', 90.33333333333333), ('male', 'group D', 69), ('female', 'group C', 89.66666666666667), ('female', 'group C', 84.33333333333333), ('female', 'group D', 66), ('male', 'group B', 74.33333333333333), ('female', 'group D', 75), ('female', 'group D', 93), ('female', 'group C', 80), ('male', 'group D', 69.33333333333333), ('female', 'group A', 78.66666666666667), ('male', 'group A', 75), ('female', 'group C', 64.66666666666667), ('female', 'group B', 64), ('female', 'group B', 73), ('male', 'group D', 78.33333333333333), ('male', 'group D', 92.66666666666667), ('male', 'group D', 87.33333333333333), ('male', 'group B', 67.66666666666667), ('female', 'group D', 84.33333333333333), ('male', 'group B', 67.33333333333333), ('female', 'group E', 73.66666666666667), ('male', 'group D', 62.666666666666664), ('male', 'group B', 76.33333333333333), ('female', 'group D', 77), ('female', 'group B', 73.33333333333333), ('female', 'group C', 61.666666666666664), ('male', 'group B', 81), ('male', 'group E', 85.33333333333333), ('female', 'group E', 100), ('male', 'group C', 69.33333333333333), ('female', 'group B', 66.33333333333333), ('female', 'group D', 79), ('female', 'group C', 75), ('male', 'group D', 64.33333333333333), ('male', 'group A', 79), ('male', 'group D', 96.66666666666667), ('male', 'group C', 74), ('female', 'group D', 84.66666666666667), ('female', 'group D', 79.33333333333333)}\n"
     ]
    }
   ],
   "source": [
    "with open('./exams.csv') as csvfile:\n",
    "    students = csv.reader(csvfile, delimiter = ',')\n",
    "    columnas = next(students)\n",
    "    conjunto13 = set()\n",
    "    conjunto14 = set()\n",
    "    conjuntoFinal = set()\n",
    "    for student in students:\n",
    "        list_aux = []\n",
    "        for a in range(5,8):\n",
    "            list_aux.append(int(student[a]))\n",
    "        if mean(list_aux) >=  60:\n",
    "            conjunto13.add(tuple([student[0],student[1],mean(list_aux)]))\n",
    "        if mean(list_aux) ==  60:\n",
    "            conjunto14.add(tuple([student[0],student[1],mean(list_aux)])) \n",
    "    conjuntoFinal = conjunto13.symmetric_difference(conjunto13.intersection(conjunto14))\n",
    "    print(conjuntoFinal)"
   ]
  },
  {
   "cell_type": "markdown",
   "metadata": {},
   "source": [
    "#### 18. Mediante operación de conjuntos obtener los estudiantes que se encuentran en el conjunto del ejercicio 13 pero no en el conjunto del ejercicio 15."
   ]
  },
  {
   "cell_type": "code",
   "execution_count": 19,
   "metadata": {},
   "outputs": [
    {
     "name": "stdout",
     "output_type": "stream",
     "text": [
      "{('male', 'group C', 61.333333333333336), ('male', 'group D', 65.66666666666667), ('male', 'group D', 90), ('male', 'group C', 77.33333333333333), ('male', 'group C', 86.33333333333333), ('male', 'group E', 82.66666666666667), ('male', 'group B', 61.666666666666664), ('male', 'group A', 65.66666666666667), ('male', 'group E', 91.66666666666667), ('male', 'group E', 61), ('male', 'group B', 75.66666666666667), ('male', 'group D', 83), ('male', 'group C', 75.66666666666667), ('male', 'group C', 70.33333333333333), ('male', 'group A', 65), ('male', 'group C', 93.66666666666667), ('male', 'group E', 84.33333333333333), ('male', 'group C', 60), ('male', 'group D', 74.33333333333333), ('male', 'group C', 63.666666666666664), ('male', 'group E', 88.33333333333333), ('male', 'group B', 71.66666666666667), ('male', 'group B', 62.333333333333336), ('male', 'group E', 78), ('male', 'group E', 63.666666666666664), ('male', 'group C', 77.66666666666667), ('male', 'group C', 62.333333333333336), ('male', 'group D', 91), ('male', 'group D', 66.66666666666667), ('male', 'group C', 81.33333333333333), ('male', 'group E', 66.33333333333333), ('male', 'group B', 62), ('male', 'group D', 75.66666666666667), ('male', 'group D', 67.33333333333333), ('male', 'group B', 71), ('male', 'group E', 62.333333333333336), ('male', 'group D', 76.33333333333333), ('male', 'group C', 71), ('male', 'group B', 62.666666666666664), ('male', 'group E', 90.33333333333333), ('male', 'group D', 69), ('male', 'group D', 91.33333333333333), ('male', 'group C', 73.66666666666667), ('male', 'group B', 74.33333333333333), ('male', 'group B', 71.33333333333333), ('male', 'group E', 89), ('male', 'group B', 80.33333333333333), ('male', 'group B', 73), ('male', 'group C', 64), ('male', 'group D', 78.33333333333333), ('male', 'group D', 69.33333333333333), ('male', 'group A', 75), ('male', 'group D', 92.66666666666667), ('male', 'group D', 87.33333333333333), ('male', 'group E', 80.33333333333333), ('male', 'group C', 66.66666666666667), ('male', 'group B', 67.33333333333333), ('male', 'group A', 69.33333333333333), ('male', 'group E', 73), ('male', 'group B', 64.33333333333333), ('male', 'group D', 62.666666666666664), ('male', 'group B', 76.33333333333333), ('male', 'group D', 86), ('male', 'group B', 73.33333333333333), ('male', 'group D', 70.66666666666667), ('male', 'group C', 73.33333333333333), ('male', 'group D', 61.333333333333336), ('male', 'group E', 85.33333333333333), ('male', 'group B', 81), ('male', 'group E', 66), ('male', 'group D', 70), ('male', 'group A', 76.66666666666667), ('male', 'group C', 69.33333333333333), ('male', 'group B', 75.33333333333333), ('male', 'group D', 64.33333333333333), ('male', 'group B', 77), ('male', 'group A', 79), ('male', 'group D', 96.66666666666667), ('male', 'group C', 74), ('male', 'group B', 67.66666666666667)}\n"
     ]
    }
   ],
   "source": [
    "with open('./exams.csv') as csvfile:\n",
    "    students = csv.reader(csvfile, delimiter = ',')\n",
    "    columnas = next(students)\n",
    "    conjunto13 = set()\n",
    "    conjunto15 = set()\n",
    "    conjuntoFinal = set()\n",
    "    for student in students:\n",
    "        list_aux = []\n",
    "        for a in range(5,8):\n",
    "            list_aux.append(int(student[a]))\n",
    "        if mean(list_aux) >=  60:\n",
    "            conjunto13.add(tuple([student[0],student[1],mean(list_aux)]))\n",
    "        if student[0] ==  'female':\n",
    "            conjunto15.add(tuple([student[0],student[1],mean(list_aux)]))\n",
    "    conjuntoFinal = conjunto13.symmetric_difference(conjunto13.intersection(conjunto15))\n",
    "    print(conjuntoFinal)"
   ]
  },
  {
   "cell_type": "markdown",
   "metadata": {},
   "source": [
    "#### 19. Mediante operación de conjuntos obtener los estudiantes que se encuentran en el conjunto del ejercicio 15 pero no en el conjunto del ejercicio 13."
   ]
  },
  {
   "cell_type": "code",
   "execution_count": 20,
   "metadata": {},
   "outputs": [
    {
     "name": "stdout",
     "output_type": "stream",
     "text": [
      "{('female', 'group C', 56.666666666666664), ('female', 'group D', 47.333333333333336), ('female', 'group D', 56.333333333333336), ('female', 'group C', 55.333333333333336), ('female', 'group C', 37), ('female', 'group C', 46), ('female', 'group C', 49.666666666666664), ('female', 'group B', 45), ('female', 'group C', 55.666666666666664), ('female', 'group B', 51), ('female', 'group D', 55.333333333333336), ('female', 'group D', 51.333333333333336), ('female', 'group A', 46), ('female', 'group E', 57.666666666666664), ('female', 'group C', 56.333333333333336), ('female', 'group B', 37.333333333333336), ('female', 'group C', 44.666666666666664), ('female', 'group B', 55), ('female', 'group D', 59.333333333333336), ('female', 'group C', 58.333333333333336), ('female', 'group B', 55.666666666666664), ('female', 'group C', 43), ('female', 'group D', 59), ('female', 'group B', 57.333333333333336), ('female', 'group B', 54.333333333333336), ('female', 'group D', 37), ('female', 'group D', 46.666666666666664), ('female', 'group D', 45.333333333333336), ('female', 'group B', 59), ('female', 'group C', 59.333333333333336)}\n"
     ]
    }
   ],
   "source": [
    "with open('./exams.csv') as csvfile:\n",
    "    students = csv.reader(csvfile, delimiter = ',')\n",
    "    columnas = next(students)\n",
    "    conjunto13 = set()\n",
    "    conjunto15 = set()\n",
    "    conjuntoFinal = set()\n",
    "    for student in students:\n",
    "        list_aux = []\n",
    "        for a in range(5,8):\n",
    "            list_aux.append(int(student[a]))\n",
    "        if mean(list_aux) >=  60:\n",
    "            conjunto13.add(tuple([student[0],student[1],mean(list_aux)]))\n",
    "        if student[0] ==  'female':\n",
    "            conjunto15.add(tuple([student[0],student[1],mean(list_aux)]))\n",
    "    conjuntoFinal = conjunto15.symmetric_difference(conjunto15.intersection(conjunto13))\n",
    "    print(conjuntoFinal)"
   ]
  },
  {
   "cell_type": "markdown",
   "metadata": {},
   "source": [
    "#### 20. Mediante operacion de conjuntos obtener los estudiantes que se encuentras en el conjunto del ejercicio 12 pero no en el conjunto del ejercicio 11."
   ]
  },
  {
   "cell_type": "code",
   "execution_count": 21,
   "metadata": {},
   "outputs": [
    {
     "name": "stdout",
     "output_type": "stream",
     "text": [
      "{('female', 'group A', 'completed'), ('male', 'group A', 'completed'), ('male', 'group E', 'completed'), ('male', 'group D', 'completed'), ('male', 'group B', 'completed'), ('male', 'group C', 'completed')}\n"
     ]
    }
   ],
   "source": [
    "with open('./exams.csv') as csvfile:\n",
    "    students = csv.reader(csvfile, delimiter = ',')\n",
    "    columnas = next(students)\n",
    "    conjunto12 = set()\n",
    "    conjunto11 = set()\n",
    "    conjuntoFinal = set()\n",
    "    \n",
    "\n",
    "    for student in students:\n",
    "        if student[4]=='completed':\n",
    "            conjunto11.add(tuple([student[0],student[1],student[4]]))\n",
    "        if student[0] =='female' and student[1]!='group A':\n",
    "            conjunto12.add(tuple([student[0],student[1],student[4]]))\n",
    "    conjuntoFinal = conjunto11.difference(conjunto12)\n",
    "   \n",
    "    print(conjuntoFinal)"
   ]
  }
 ],
 "metadata": {
  "kernelspec": {
   "display_name": "Python 3.10.6 64-bit",
   "language": "python",
   "name": "python3"
  },
  "language_info": {
   "codemirror_mode": {
    "name": "ipython",
    "version": 3
   },
   "file_extension": ".py",
   "mimetype": "text/x-python",
   "name": "python",
   "nbconvert_exporter": "python",
   "pygments_lexer": "ipython3",
   "version": "3.10.6"
  },
  "orig_nbformat": 4,
  "vscode": {
   "interpreter": {
    "hash": "916dbcbb3f70747c44a77c7bcd40155683ae19c65e1c03b4aa3499c5328201f1"
   }
  }
 },
 "nbformat": 4,
 "nbformat_minor": 2
}
