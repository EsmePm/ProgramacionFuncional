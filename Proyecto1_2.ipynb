{
 "cells": [
  {
   "cell_type": "markdown",
   "metadata": {},
   "source": [
    "# Proyecto 1.2"
   ]
  },
  {
   "cell_type": "code",
   "execution_count": 2,
   "metadata": {},
   "outputs": [],
   "source": [
    "import csv\n",
    "from statistics import mean"
   ]
  },
  {
   "cell_type": "markdown",
   "metadata": {},
   "source": [
    "##### 1.Crear una lista de diccionarios con todos los registros y todas columnas del csv"
   ]
  },
  {
   "cell_type": "code",
   "execution_count": null,
   "metadata": {},
   "outputs": [],
   "source": [
    "with open('./exams.csv') as csvfile:\n",
    "    list = []\n",
    "    students = csv.reader(csvfile, delimiter = ',')\n",
    "    columnas = next(students)\n",
    "    for student in students:\n",
    "        iterador = zip(columnas,student)\n",
    "        list.append({clave:valor for clave, valor in iterador})\n",
    "    print(list)"
   ]
  },
  {
   "cell_type": "markdown",
   "metadata": {},
   "source": [
    "##### 2. Crear una lista de listas con todos los registros del csv donde el gender sea male"
   ]
  },
  {
   "cell_type": "code",
   "execution_count": null,
   "metadata": {},
   "outputs": [],
   "source": [
    "with open('./exams.csv') as csvfile:\n",
    "    list = []\n",
    "    students = csv.reader(csvfile, delimiter = ',')\n",
    "    columnas = next(students)\n",
    "    for student in students:\n",
    "        iterador = zip(columnas,student)\n",
    "        list.append([studen for studen in student if student[0]=='male'])\n",
    "        list = [lista for lista in list if lista != []]\n",
    "    print(list)"
   ]
  },
  {
   "cell_type": "markdown",
   "metadata": {},
   "source": [
    "##### 3. Crear una lista de diccionarios donde solo aparezcan el gender, test preparation course y math score"
   ]
  },
  {
   "cell_type": "code",
   "execution_count": null,
   "metadata": {},
   "outputs": [],
   "source": [
    "with open('./exams.csv') as csvfile:\n",
    "    list = []\n",
    "    students = csv.reader(csvfile, delimiter = ',')\n",
    "    columnas = next(students)\n",
    "    for student in students:\n",
    "        iterador = zip(columnas,student)\n",
    "        list.append({clave: valor for clave, valor in iterador if clave == 'gender' or clave == 'test preparation course' or clave == 'math score'})\n",
    "    print(list)"
   ]
  },
  {
   "cell_type": "markdown",
   "metadata": {},
   "source": [
    "##### 4. Crear una lista de diccionarios de todos los registros donde race/ethnicity sea group D"
   ]
  },
  {
   "cell_type": "code",
   "execution_count": null,
   "metadata": {},
   "outputs": [],
   "source": [
    "with open('./exams.csv') as csvfile:\n",
    "    list = []\n",
    "    students = csv.reader(csvfile, delimiter = ',')\n",
    "    columnas = next(students)\n",
    "    for student in students:\n",
    "        iterador = zip(columnas,student)\n",
    "        dir_Student = {clave: valor for clave, valor in iterador if student[1]=='group D'}\n",
    "        list.append(dir_Student)\n",
    "        list = [lista for lista in list if lista != {}]\n",
    "    print(list)"
   ]
  },
  {
   "cell_type": "markdown",
   "metadata": {},
   "source": [
    "##### 5. Crear una lista de diccionarios que solo tenga race/ethnicity y test preparation score"
   ]
  },
  {
   "cell_type": "code",
   "execution_count": null,
   "metadata": {},
   "outputs": [],
   "source": [
    "with open('./exams.csv') as csvfile:\n",
    "    list = []\n",
    "    students = csv.reader(csvfile, delimiter = ',')\n",
    "    columnas = next(students)\n",
    "    for student in students:\n",
    "        iterador = zip(columnas,student)\n",
    "        list.append({clave: valor for clave, valor in iterador if clave == 'race/ethnicity' or clave == 'test preparation course'})\n",
    "    print(list)"
   ]
  },
  {
   "cell_type": "markdown",
   "metadata": {},
   "source": [
    "##### 6. Crear un diccionario de diccionarios que solo tenga race/ethnicity y test preparation score"
   ]
  },
  {
   "cell_type": "code",
   "execution_count": null,
   "metadata": {},
   "outputs": [],
   "source": [
    "with open('./exams.csv') as csvfile:\n",
    "    list = {}\n",
    "    students = csv.reader(csvfile, delimiter = ',')\n",
    "    columnas = next(students)\n",
    "    cont = 1\n",
    "    for student in students:\n",
    "        iterador = zip(columnas,student)\n",
    "        list['Estudiante '+str(cont)] = {clave: valor for clave, valor in iterador if clave == 'race/ethnicity' or clave == 'test preparation course'}\n",
    "        cont += 1\n",
    "    print(list)"
   ]
  },
  {
   "cell_type": "markdown",
   "metadata": {},
   "source": [
    "##### 7. Crear un diccionario de diccionarios con todos los registros y todas columnas del csv, excepto: math score,reading score,writing score, todos estos datos excluidos deben ser agregados a cada diccionario en una lista con la clave: Score"
   ]
  },
  {
   "cell_type": "code",
   "execution_count": null,
   "metadata": {},
   "outputs": [],
   "source": [
    "with open('./exams.csv') as csvfile:\n",
    "    list = {}\n",
    "    students = csv.reader(csvfile, delimiter = ',')\n",
    "    columnas = next(students)\n",
    "    del columnas[5:8]\n",
    "    cont = 1\n",
    "    for student in students:\n",
    "        list_students = []\n",
    "        iterador = zip(columnas,student)\n",
    "        l = {clave: valor for clave, valor in iterador}\n",
    "        for i in range(5,8):\n",
    "            list_students.append(student[i])\n",
    "        l['Score'] = list_students\n",
    "        list['Estudiante '+ str(cont)] = l\n",
    "        cont += 1\n",
    "    print(list)"
   ]
  },
  {
   "cell_type": "markdown",
   "metadata": {},
   "source": [
    "##### 8. Crear un diccionario de tuplas en donde la tupla contenga math score, reading score, writing score"
   ]
  },
  {
   "cell_type": "code",
   "execution_count": null,
   "metadata": {},
   "outputs": [],
   "source": [
    "with open('./exams.csv') as csvfile:\n",
    "    dicc = {}\n",
    "    students = csv.reader(csvfile, delimiter = ',')\n",
    "    columnas = next(students)\n",
    "    cont = 1\n",
    "    for student in students:\n",
    "        dicc['Estudiante '+str(cont)] = {tuple ([student[5],student[6],student[7]]) }\n",
    "        cont +=1\n",
    "    print(dicc)"
   ]
  },
  {
   "cell_type": "markdown",
   "metadata": {},
   "source": [
    "##### 9. Crear un diccionario de diccionarios que solo tenga estudiantes de gender female."
   ]
  },
  {
   "cell_type": "code",
   "execution_count": null,
   "metadata": {},
   "outputs": [],
   "source": [
    "with open('./exams.csv') as csvfile:\n",
    "    list = {}\n",
    "    students = csv.reader(csvfile, delimiter = ',')\n",
    "    columnas = next(students)\n",
    "    cont = 1\n",
    "    for student in students:\n",
    "        iterador = zip(columnas,student)\n",
    "        if student[0] == 'female':\n",
    "            list['Estudiante '+str(cont)] = {clave: valor for clave, valor in iterador}\n",
    "            cont += 1\n",
    "    print(list)"
   ]
  },
  {
   "cell_type": "markdown",
   "metadata": {},
   "source": [
    "##### 10. Crear un diccionario de tuplas, donde la tupla contenga gender, race/ethnicity y el promedio de las columnas: math score, reading score y writing score."
   ]
  },
  {
   "cell_type": "code",
   "execution_count": null,
   "metadata": {},
   "outputs": [],
   "source": [
    "with open('./exams.csv') as csvfile:\n",
    "    dicc = {}\n",
    "    list_aux = []\n",
    "    students = csv.reader(csvfile, delimiter = ',')\n",
    "    columnas = next(students)\n",
    "    cont = 1\n",
    "    for student in students:\n",
    "        for i in range(5,8):\n",
    "            list_aux.append(int(student[i]))\n",
    "        dicc['Estudiante '+str(cont)] = {tuple ([student[0],student[1],mean(list_aux)])}\n",
    "        cont +=1\n",
    "    print(dicc)"
   ]
  },
  {
   "cell_type": "markdown",
   "metadata": {},
   "source": [
    "##### 11. Crear un conjunto de todos los estudiantes que sus elementos estan formados por una tupla : gender, race/ethnicity y test preparation course  donde teste preparation course sea completo."
   ]
  },
  {
   "cell_type": "code",
   "execution_count": null,
   "metadata": {},
   "outputs": [],
   "source": [
    "with open('./exams.csv') as csvfile:\n",
    "    students = csv.reader(csvfile, delimiter = ',')\n",
    "    columnas = next(students)\n",
    "    conjunt = set()\n",
    "    for student in students:\n",
    "        if student[4]=='completed':\n",
    "            conjunt.add(tuple([student[0],student[1],student[4]]))\n",
    "    print(conjunt)"
   ]
  },
  {
   "cell_type": "markdown",
   "metadata": {},
   "source": [
    "##### 12. Crear un conjunto de todos los estudiantes que sus elementos estan formados por una tupla : parental level of education, lunch y test preparation course, donde parental level of education no sea high school."
   ]
  },
  {
   "cell_type": "code",
   "execution_count": null,
   "metadata": {},
   "outputs": [],
   "source": [
    "with open('./exams.csv') as csvfile:\n",
    "    students = csv.reader(csvfile, delimiter = ',')\n",
    "    columnas = next(students)\n",
    "    conjunt = set()\n",
    "    for student in students:\n",
    "        if student[2]!='high school':\n",
    "            conjunt.add(tuple([student[2],student[3],student[4]]))\n",
    "    print(conjunt)"
   ]
  },
  {
   "cell_type": "markdown",
   "metadata": {},
   "source": [
    "#### 13. Crear un conjunto todos los estudiantes que sus elementos estan formados por una tupla: gender, race/ethnicity y el promedio donde el promedio de match score, reading score y writing score sea mayor o igual a 60."
   ]
  },
  {
   "cell_type": "code",
   "execution_count": null,
   "metadata": {},
   "outputs": [],
   "source": [
    "with open('./exams.csv') as csvfile:\n",
    "    students = csv.reader(csvfile, delimiter = ',')\n",
    "    columnas = next(students)\n",
    "    conjunt = set()\n",
    "    for student in students:\n",
    "        list_aux = []\n",
    "        for a in range(5,8):\n",
    "            list_aux.append(int(student[a]))\n",
    "        if mean(list_aux) >=  60:\n",
    "            conjunt.add(tuple([student[0],student[1],mean(list_aux)]))\n",
    "    print(conjunt)"
   ]
  },
  {
   "cell_type": "markdown",
   "metadata": {},
   "source": [
    "#### 14. Crear un conjunto todos los estudiantes que sus elementos estan formados por una tupla: gender, race/ethnicity y el promedio donde el promedio de match score, reading score y writing score sea igual a 60. "
   ]
  },
  {
   "cell_type": "code",
   "execution_count": null,
   "metadata": {},
   "outputs": [],
   "source": [
    "with open('./exams.csv') as csvfile:\n",
    "    students = csv.reader(csvfile, delimiter = ',')\n",
    "    columnas = next(students)\n",
    "    conjunt = set()\n",
    "    for student in students:\n",
    "        list_aux = []\n",
    "        for a in range(5,8):\n",
    "            list_aux.append(int(student[a]))\n",
    "        if mean(list_aux) ==  60:\n",
    "            conjunt.add(tuple([student[0],student[1],mean(list_aux)]))\n",
    "    print(conjunt)"
   ]
  },
  {
   "cell_type": "markdown",
   "metadata": {},
   "source": [
    "#### 15. Crear un conjunto todos los estudiantes que sus elementos estan formados por una tupla: gender, race/ethnicity y el promedio de match score, reading score y writing score donde el gender sea female. "
   ]
  },
  {
   "cell_type": "code",
   "execution_count": null,
   "metadata": {},
   "outputs": [],
   "source": [
    "with open('./exams.csv') as csvfile:\n",
    "    students = csv.reader(csvfile, delimiter = ',')\n",
    "    columnas = next(students)\n",
    "    conjunt = set()\n",
    "    for student in students:\n",
    "        list_aux = []\n",
    "        for a in range(5,8):\n",
    "            list_aux.append(int(student[a]))\n",
    "        if student[0] ==  'female':\n",
    "            conjunt.add(tuple([student[0],student[1],mean(list_aux)]))\n",
    "    print(conjunt)"
   ]
  },
  {
   "cell_type": "markdown",
   "metadata": {},
   "source": [
    "#### 16. Mediante operación de conjuntos unir los conjuntos del ejercicio 11 y 12 ."
   ]
  },
  {
   "cell_type": "code",
   "execution_count": null,
   "metadata": {},
   "outputs": [],
   "source": [
    "with open('./exams.csv') as csvfile:\n",
    "    students = csv.reader(csvfile, delimiter = ',')\n",
    "    columnas = next(students)\n",
    "    conjunto11 = set()\n",
    "    conjunto12 = set()\n",
    "    conjuntoFinal = set()\n",
    "    for student in students:\n",
    "        if student[4]=='completed':\n",
    "            conjunto11.add(tuple([student[0],student[1],student[4]]))\n",
    "        if student[0] =='female' and student[1]!='group A':\n",
    "            conjunto12.add(tuple([student[0],student[1],student[4]]))\n",
    "    conjuntoFinal = conjunto11.union(conjunto12)\n",
    "    print(conjuntoFinal)"
   ]
  },
  {
   "cell_type": "markdown",
   "metadata": {},
   "source": [
    "#### 17. Mediante operación de conjuntos obtener los estudiantes que se encuentran en el conjunto del ejercicio 13 pero no en el conjunto del ejercicio 14."
   ]
  },
  {
   "cell_type": "code",
   "execution_count": null,
   "metadata": {},
   "outputs": [],
   "source": [
    "with open('./exams.csv') as csvfile:\n",
    "    students = csv.reader(csvfile, delimiter = ',')\n",
    "    columnas = next(students)\n",
    "    conjunto13 = set()\n",
    "    conjunto14 = set()\n",
    "    conjuntoFinal = set()\n",
    "    for student in students:\n",
    "        list_aux = []\n",
    "        for a in range(5,8):\n",
    "            list_aux.append(int(student[a]))\n",
    "        if mean(list_aux) >=  60:\n",
    "            conjunto13.add(tuple([student[0],student[1],mean(list_aux)]))\n",
    "        if mean(list_aux) ==  60:\n",
    "            conjunto14.add(tuple([student[0],student[1],mean(list_aux)])) \n",
    "    conjuntoFinal = conjunto13.symmetric_difference(conjunto13.intersection(conjunto14))\n",
    "    print(conjuntoFinal)"
   ]
  },
  {
   "cell_type": "markdown",
   "metadata": {},
   "source": [
    "#### 18. Mediante operación de conjuntos obtener los estudiantes que se encuentran en el conjunto del ejercicio 13 pero no en el conjunto del ejercicio 15."
   ]
  },
  {
   "cell_type": "code",
   "execution_count": null,
   "metadata": {},
   "outputs": [],
   "source": [
    "with open('./exams.csv') as csvfile:\n",
    "    students = csv.reader(csvfile, delimiter = ',')\n",
    "    columnas = next(students)\n",
    "    conjunto13 = set()\n",
    "    conjunto15 = set()\n",
    "    conjuntoFinal = set()\n",
    "    for student in students:\n",
    "        list_aux = []\n",
    "        for a in range(5,8):\n",
    "            list_aux.append(int(student[a]))\n",
    "        if mean(list_aux) >=  60:\n",
    "            conjunto13.add(tuple([student[0],student[1],mean(list_aux)]))\n",
    "        if student[0] ==  'female':\n",
    "            conjunto15.add(tuple([student[0],student[1],mean(list_aux)]))\n",
    "    conjuntoFinal = conjunto13.symmetric_difference(conjunto13.intersection(conjunto15))\n",
    "    print(conjuntoFinal)"
   ]
  },
  {
   "cell_type": "markdown",
   "metadata": {},
   "source": [
    "#### 19. Mediante operación de conjuntos obtener los estudiantes que se encuentran en el conjunto del ejercicio 15 pero no en el conjunto del ejercicio 13."
   ]
  },
  {
   "cell_type": "code",
   "execution_count": null,
   "metadata": {},
   "outputs": [],
   "source": [
    "with open('./exams.csv') as csvfile:\n",
    "    students = csv.reader(csvfile, delimiter = ',')\n",
    "    columnas = next(students)\n",
    "    conjunto13 = set()\n",
    "    conjunto15 = set()\n",
    "    conjuntoFinal = set()\n",
    "    for student in students:\n",
    "        list_aux = []\n",
    "        for a in range(5,8):\n",
    "            list_aux.append(int(student[a]))\n",
    "        if mean(list_aux) >=  60:\n",
    "            conjunto13.add(tuple([student[0],student[1],mean(list_aux)]))\n",
    "        if student[0] ==  'female':\n",
    "            conjunto15.add(tuple([student[0],student[1],mean(list_aux)]))\n",
    "    conjuntoFinal = conjunto15.symmetric_difference(conjunto15.intersection(conjunto13))\n",
    "    print(conjuntoFinal)"
   ]
  },
  {
   "cell_type": "markdown",
   "metadata": {},
   "source": [
    "#### 20. Mediante operacion de conjuntos obtener los estudiantes que se encuentras en el conjunto del ejercicio 12 pero no en el conjunto del ejercicio 11."
   ]
  },
  {
   "cell_type": "code",
   "execution_count": null,
   "metadata": {},
   "outputs": [],
   "source": [
    "with open('./exams.csv') as csvfile:\n",
    "    students = csv.reader(csvfile, delimiter = ',')\n",
    "    columnas = next(students)\n",
    "    conjunto12 = set()\n",
    "    conjunto11 = set()\n",
    "    conjuntoFinal = set()\n",
    "    \n",
    "\n",
    "    for student in students:\n",
    "        if student[4]=='completed':\n",
    "            conjunto11.add(tuple([student[0],student[1],student[4]]))\n",
    "        if student[0] =='female' and student[1]!='group A':\n",
    "            conjunto12.add(tuple([student[0],student[1],student[4]]))\n",
    "    conjuntoFinal = conjunto11.difference(conjunto12)\n",
    "   \n",
    "    print(conjuntoFinal)"
   ]
  }
 ],
 "metadata": {
  "kernelspec": {
   "display_name": "Python 3.10.6 64-bit",
   "language": "python",
   "name": "python3"
  },
  "language_info": {
   "codemirror_mode": {
    "name": "ipython",
    "version": 3
   },
   "file_extension": ".py",
   "mimetype": "text/x-python",
   "name": "python",
   "nbconvert_exporter": "python",
   "pygments_lexer": "ipython3",
   "version": "3.10.6"
  },
  "orig_nbformat": 4,
  "vscode": {
   "interpreter": {
    "hash": "916dbcbb3f70747c44a77c7bcd40155683ae19c65e1c03b4aa3499c5328201f1"
   }
  }
 },
 "nbformat": 4,
 "nbformat_minor": 2
}
