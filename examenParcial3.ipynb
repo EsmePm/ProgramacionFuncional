{
 "cells": [
  {
   "attachments": {},
   "cell_type": "markdown",
   "metadata": {},
   "source": [
    "#### Ejercicio 1"
   ]
  },
  {
   "cell_type": "code",
   "execution_count": null,
   "metadata": {},
   "outputs": [],
   "source": [
    "import math\n",
    "def facto(numero):\n",
    "    return math.prod(range(1,numero+1))\n",
    "\n",
    "print(facto(4))"
   ]
  },
  {
   "attachments": {},
   "cell_type": "markdown",
   "metadata": {},
   "source": [
    "#### Ejercicio 2"
   ]
  },
  {
   "cell_type": "code",
   "execution_count": null,
   "metadata": {},
   "outputs": [],
   "source": [
    "# a)\n",
    "import math\n",
    "def haversine(p1,p2):\n",
    "    lat_1, lon_1 = p1\n",
    "    lat_1, lon_1 = float(lat_1), float(lon_1)\n",
    "    lat_2, lon_2 = p2\n",
    "    lat_2, lon_2 = float(lat_2), float(lon_2)\n",
    "    d_lat = math.radians(lat_2 - lat_1)\n",
    "    d_lon = math.radians(lon_2 - lon_1)\n",
    "    lat_1 = math.radians(lat_1)\n",
    "    lat_2 = math.radians(lat_2)\n",
    "    a = math.sqrt(math.sin(d_lat/2)**2 + math.cos(lat_1) * math.cos(lat_2) * math.sin(d_lon/2)**2)\n",
    "    c = 2 * math.asin(a)\n",
    "    return 3440 * c\n",
    "\n",
    "def distancia(cad):\n",
    "    for x in range(len(cad)-1):\n",
    "        distancia = haversine(cad[x],cad[x+1])\n",
    "        yield [cad[x],cad[x+1], distancia]\n",
    "\n",
    "data = (('37.54901619777347','-76.33029518659048'),('37.840832','-76.27383399999999'),('38.331501','-76.459503'),('38.843334','-76.298668'),('3.549','-76.331169'),('38.330166','-76.458504'),('38.976334','-76.47350299999999'))\n",
    "\n",
    "lista = []\n",
    "for x in distancia(data):\n",
    "    lista.append(tuple(x))\n",
    "\n",
    "print('Inciso a)')\n",
    "print(lista,'\\n')\n",
    "# ------------------------------------------------------------------------------------------------------------------------------------------------------------------------------------------------\n",
    "# b)\n",
    "def maximo(cad):\n",
    "    return max([x[2] for x in cad])\n",
    "\n",
    "numero_maximo = list(filter(lambda x : x[2] == maximo(lista), lista))[0]\n",
    "print('Inciso b)')\n",
    "print(numero_maximo,'\\n')\n",
    "# ------------------------------------------------------------------------------------------------------------------------------------------------------------------------------------------------\n",
    "# c)\n",
    "def minimo(cad):\n",
    "    return min([x[2] for x in cad])\n",
    "numero_minimo = list(filter(lambda x : x[2] == minimo(lista), lista))[0]\n",
    "print('Inciso c)')\n",
    "print(numero_minimo)"
   ]
  },
  {
   "attachments": {},
   "cell_type": "markdown",
   "metadata": {},
   "source": [
    "#### Ejercicio 3"
   ]
  },
  {
   "cell_type": "code",
   "execution_count": null,
   "metadata": {},
   "outputs": [],
   "source": [
    "lissta = tuple(map(lambda x : tuple([x[0], x[1], (x[2] * (6076.12/5280))]), lista))\n",
    "print(lissta)"
   ]
  }
 ],
 "metadata": {
  "kernelspec": {
   "display_name": "Python 3.10.6 64-bit",
   "language": "python",
   "name": "python3"
  },
  "language_info": {
   "codemirror_mode": {
    "name": "ipython",
    "version": 3
   },
   "file_extension": ".py",
   "mimetype": "text/x-python",
   "name": "python",
   "nbconvert_exporter": "python",
   "pygments_lexer": "ipython3",
   "version": "3.10.6"
  },
  "orig_nbformat": 4,
  "vscode": {
   "interpreter": {
    "hash": "916dbcbb3f70747c44a77c7bcd40155683ae19c65e1c03b4aa3499c5328201f1"
   }
  }
 },
 "nbformat": 4,
 "nbformat_minor": 2
}
