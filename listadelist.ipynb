{
 "cells": [
  {
   "cell_type": "code",
   "execution_count": 2,
   "metadata": {},
   "outputs": [
    {
     "name": "stdout",
     "output_type": "stream",
     "text": [
      "45\n"
     ]
    }
   ],
   "source": [
    "\n",
    "def lis(l):\n",
    "    if not isinstance(l, list):\n",
    "        return l\n",
    "    elif l ==[]:\n",
    "        return 0\n",
    "    return lis(l[0]) + lis(l[1:])\n",
    "\n",
    "\n",
    "if __name__ == '__main__':\n",
    "    l = [1, 2, [3, 4], 5, [[6, 7], [8, 9]]]\n",
    "    print(lis(l))"
   ]
  },
  {
   "cell_type": "code",
   "execution_count": null,
   "metadata": {},
   "outputs": [],
   "source": [
    "def lis(l):\n",
    "    if l == []:\n",
    "        return 0\n",
    "    if not isinstance(l, list):\n",
    "        return l\n",
    "    else:\n",
    "        for a in l:\n",
    "            if isinstance(a, list):\n",
    "                    print(a)\n",
    "            \n",
    "\n",
    "\n",
    "if __name__ == '__main__':\n",
    "    a = 0\n",
    "    list0 = [1, 2, [3, 4], 5, [[6, 7], [8, 9]]]\n",
    "    for l in list0:\n",
    "        print(lis(l))\n",
    "    #print(a)"
   ]
  }
 ],
 "metadata": {
  "kernelspec": {
   "display_name": "Python 3.10.5 64-bit",
   "language": "python",
   "name": "python3"
  },
  "language_info": {
   "codemirror_mode": {
    "name": "ipython",
    "version": 3
   },
   "file_extension": ".py",
   "mimetype": "text/x-python",
   "name": "python",
   "nbconvert_exporter": "python",
   "pygments_lexer": "ipython3",
   "version": "3.10.5"
  },
  "orig_nbformat": 4,
  "vscode": {
   "interpreter": {
    "hash": "26de051ba29f2982a8de78e945f0abaf191376122a1563185a90213a26c5da77"
   }
  }
 },
 "nbformat": 4,
 "nbformat_minor": 2
}
