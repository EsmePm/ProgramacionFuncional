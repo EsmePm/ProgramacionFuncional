{
 "cells": [
  {
   "cell_type": "code",
   "execution_count": null,
   "metadata": {},
   "outputs": [],
   "source": [
    "import csv\n",
    "from statistics import mean"
   ]
  },
  {
   "cell_type": "markdown",
   "metadata": {},
   "source": [
    "##### 1.Crear una lista de diccionarios con todos los registros y todas columnas del csv"
   ]
  },
  {
   "cell_type": "code",
   "execution_count": null,
   "metadata": {},
   "outputs": [],
   "source": [
    "def generator(students, columnas):\n",
    "    for student in students:\n",
    "        iterador = zip(columnas,student)\n",
    "        yield {clave:valor for clave, valor in iterador}\n",
    "\n",
    "with open('./exams.csv') as csvfile:\n",
    "    students = csv.reader(csvfile, delimiter = ',')\n",
    "    columnas = next(students)\n",
    "    lis = []\n",
    "    for x in generator(students, columnas):\n",
    "        lis.append(x)\n",
    "    print(lis)"
   ]
  },
  {
   "cell_type": "markdown",
   "metadata": {},
   "source": [
    "##### 2. Crear una lista de listas con todos los registros del csv donde el gender sea male"
   ]
  },
  {
   "cell_type": "code",
   "execution_count": null,
   "metadata": {},
   "outputs": [],
   "source": [
    "with open('./exams.csv') as csvfile:\n",
    "    students = csv.reader(csvfile, delimiter = ',')\n",
    "    columnas = next(students)\n",
    "    l = filter(lambda x: x[0] == 'male', students)\n",
    "    print(list(l))"
   ]
  },
  {
   "cell_type": "markdown",
   "metadata": {},
   "source": [
    "##### 3. Crear una lista de diccionarios donde solo aparezcan el gender, test preparation course y math score"
   ]
  },
  {
   "cell_type": "code",
   "execution_count": null,
   "metadata": {},
   "outputs": [],
   "source": [
    "def generator(students, columnas):\n",
    "    for student in students:\n",
    "        iterador = zip(columnas,student)\n",
    "        yield {clave: valor for clave, valor in iterador if clave == 'gender' or clave == 'test preparation course' or clave == 'math score'}\n",
    "    \n",
    "with open('./exams.csv') as csvfile:\n",
    "    li = []\n",
    "    students = csv.reader(csvfile, delimiter = ',')\n",
    "    columnas = next(students)\n",
    "    for i in generator(students, columnas):\n",
    "        li.append(i)\n",
    "    print(li)"
   ]
  },
  {
   "cell_type": "markdown",
   "metadata": {},
   "source": [
    "##### 4. Crear una lista de diccionarios de todos los registros donde race/ethnicity sea group D"
   ]
  },
  {
   "cell_type": "code",
   "execution_count": null,
   "metadata": {},
   "outputs": [],
   "source": [
    "with open('./exams.csv') as csvfile:\n",
    "    students = csv.reader(csvfile, delimiter = ',')\n",
    "    columnas = next(students)\n",
    "    lista = map(lambda x : {clave: valor for clave, valor in zip(columnas,x)} , filter(lambda x : x[1]=='group D', students))\n",
    "    print(list(lista))"
   ]
  },
  {
   "cell_type": "code",
   "execution_count": null,
   "metadata": {},
   "outputs": [],
   "source": [
    "##5\n",
    "\n",
    "def generator(students, columnas):\n",
    "    for student in students:\n",
    "        iterador = zip(columnas,student)\n",
    "        yield {clave: valor for clave, valor in iterador if clave == 'race/ethnicity' or clave == 'test preparation course'}\n",
    "    \n",
    "with open('./exams.csv') as csvfile:\n",
    "    list = []\n",
    "    students = csv.reader(csvfile, delimiter = ',')\n",
    "    columnas = next(students)\n",
    "    for i in generator(students, columnas):\n",
    "        list.append(i)\n",
    "    print(list)\n"
   ]
  },
  {
   "cell_type": "code",
   "execution_count": null,
   "metadata": {},
   "outputs": [],
   "source": [
    "##6\n",
    "def generator(students, columnas):\n",
    "    for student in students:\n",
    "        iterador = zip(columnas,student)\n",
    "        yield {clave: valor for clave, valor in iterador if clave == 'race/ethnicity' or clave == 'test preparation course'}\n",
    "    \n",
    "with open('./exams.csv') as csvfile:\n",
    "    listaa = {}\n",
    "    students = csv.reader(csvfile, delimiter = ',')\n",
    "    columnas = next(students)\n",
    "    for x,i in enumerate(generator(students, columnas),start = 1):\n",
    "         listaa['Estudiante '+ str(x)] = i\n",
    "    print(listaa)"
   ]
  },
  {
   "cell_type": "code",
   "execution_count": null,
   "metadata": {},
   "outputs": [],
   "source": [
    "### 7\n",
    "def generator(students, columnas):\n",
    "    for student in students:\n",
    "        list_students = []\n",
    "        iterador = zip(columnas,student)\n",
    "        l = {clave: valor for clave, valor in iterador}\n",
    "        for i in range(5,8):\n",
    "            list_students.append(student[i])\n",
    "        l['Score'] = list_students\n",
    "        yield  l\n",
    "    \n",
    "with open('./exams.csv') as csvfile:\n",
    "    listaa = {}\n",
    "    students = csv.reader(csvfile, delimiter = ',')\n",
    "    columnas = next(students)\n",
    "    del columnas[5:8]\n",
    "    for x,i in enumerate(generator(students, columnas),start = 1):\n",
    "         listaa['Estudiante '+ str(x)] = i\n",
    "    print(listaa)"
   ]
  },
  {
   "cell_type": "code",
   "execution_count": null,
   "metadata": {},
   "outputs": [],
   "source": [
    "### 8\n",
    "with open('./exams.csv') as csvfile:\n",
    "    dicc = {}\n",
    "    students = csv.reader(csvfile, delimiter = ',')\n",
    "    columnas = next(students)\n",
    "\n",
    "    tupla = map(lambda x : {tuple ([x[5],x[6],x[7]])}, students)\n",
    "    for x, t in enumerate(tupla, start = 1):\n",
    "        dicc['Estudiante '+str(x)] = t\n",
    "    print(dicc)"
   ]
  },
  {
   "cell_type": "code",
   "execution_count": null,
   "metadata": {},
   "outputs": [],
   "source": [
    "##9\n",
    "with open('./exams.csv') as csvfile:\n",
    "    dicc = {}\n",
    "    students = csv.reader(csvfile, delimiter = ',')\n",
    "    columnas = next(students)\n",
    "    \n",
    "    tupla = map(lambda x : {clave: valor for clave, valor in zip(columnas,x)}, filter(lambda x : x[0] == 'female',students))\n",
    "    for x, t in enumerate(tupla, start = 1):\n",
    "        dicc['Estudiante '+str(x)] = t\n",
    "    print(dicc)"
   ]
  },
  {
   "cell_type": "code",
   "execution_count": null,
   "metadata": {},
   "outputs": [],
   "source": [
    "## 10\n",
    "def generator(students):\n",
    "    list_students = []\n",
    "    for student in students:\n",
    "        for i in range(5,8):\n",
    "            list_students.append(int(student[i]))\n",
    "        yield  {tuple ([student[0],student[1],mean(list_students)])}\n",
    "    \n",
    "with open('./exams.csv') as csvfile:\n",
    "    listaa = {}\n",
    "    students = csv.reader(csvfile, delimiter = ',')\n",
    "    columnas = next(students)\n",
    "    for x,i in enumerate(generator(students),start = 1):\n",
    "        listaa['Estudiante '+ str(x)] = i\n",
    "    print(listaa)"
   ]
  }
 ],
 "metadata": {
  "kernelspec": {
   "display_name": "Python 3.10.6 64-bit",
   "language": "python",
   "name": "python3"
  },
  "language_info": {
   "codemirror_mode": {
    "name": "ipython",
    "version": 3
   },
   "file_extension": ".py",
   "mimetype": "text/x-python",
   "name": "python",
   "nbconvert_exporter": "python",
   "pygments_lexer": "ipython3",
   "version": "3.10.6"
  },
  "orig_nbformat": 4,
  "vscode": {
   "interpreter": {
    "hash": "916dbcbb3f70747c44a77c7bcd40155683ae19c65e1c03b4aa3499c5328201f1"
   }
  }
 },
 "nbformat": 4,
 "nbformat_minor": 2
}
