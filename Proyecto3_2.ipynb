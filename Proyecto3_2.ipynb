{
 "cells": [
  {
   "cell_type": "code",
   "execution_count": null,
   "metadata": {},
   "outputs": [],
   "source": [
    "import csv\n",
    "from statistics import mean"
   ]
  },
  {
   "cell_type": "markdown",
   "metadata": {},
   "source": [
    "##### 1.Crear una lista de diccionarios con todos los registros y todas columnas del csv"
   ]
  },
  {
   "cell_type": "code",
   "execution_count": null,
   "metadata": {},
   "outputs": [],
   "source": [
    "def generator(students, columnas):\n",
    "    for student in students:\n",
    "        iterador = zip(columnas,student)\n",
    "        yield {clave:valor for clave, valor in iterador}\n",
    "\n",
    "with open('./exams.csv') as csvfile:\n",
    "    students = csv.reader(csvfile, delimiter = ',')\n",
    "    columnas = next(students)\n",
    "    lis = []\n",
    "    for x in generator(students, columnas):\n",
    "        lis.append(x)\n",
    "    print(lis)"
   ]
  },
  {
   "cell_type": "markdown",
   "metadata": {},
   "source": [
    "##### 2. Crear una lista de listas con todos los registros del csv donde el gender sea male"
   ]
  },
  {
   "cell_type": "code",
   "execution_count": null,
   "metadata": {},
   "outputs": [],
   "source": [
    "with open('./exams.csv') as csvfile:\n",
    "    students = csv.reader(csvfile, delimiter = ',')\n",
    "    columnas = next(students)\n",
    "    l = filter(lambda x: x[0] == 'male', students)\n",
    "    print(list(l))"
   ]
  },
  {
   "cell_type": "markdown",
   "metadata": {},
   "source": [
    "##### 3. Crear una lista de diccionarios donde solo aparezcan el gender, test preparation course y math score"
   ]
  },
  {
   "cell_type": "code",
   "execution_count": null,
   "metadata": {},
   "outputs": [],
   "source": [
    "def generator(students, columnas):\n",
    "    for student in students:\n",
    "        iterador = zip(columnas,student)\n",
    "        yield {clave: valor for clave, valor in iterador if clave == 'gender' or clave == 'test preparation course' or clave == 'math score'}\n",
    "    \n",
    "with open('./exams.csv') as csvfile:\n",
    "    li = []\n",
    "    students = csv.reader(csvfile, delimiter = ',')\n",
    "    columnas = next(students)\n",
    "    for i in generator(students, columnas):\n",
    "        li.append(i)\n",
    "    print(li)"
   ]
  },
  {
   "cell_type": "markdown",
   "metadata": {},
   "source": [
    "##### 4. Crear una lista de diccionarios de todos los registros donde race/ethnicity sea group D"
   ]
  },
  {
   "cell_type": "code",
   "execution_count": null,
   "metadata": {},
   "outputs": [],
   "source": [
    "with open('./exams.csv') as csvfile:\n",
    "    students = csv.reader(csvfile, delimiter = ',')\n",
    "    columnas = next(students)\n",
    "    lista = map(lambda x : {clave: valor for clave, valor in zip(columnas,x)} , filter(lambda x : x[1]=='group D', students))\n",
    "    print(list(lista))"
   ]
  },
  {
   "cell_type": "code",
   "execution_count": null,
   "metadata": {},
   "outputs": [],
   "source": [
    "##5\n",
    "\n",
    "def generator(students, columnas):\n",
    "    for student in students:\n",
    "        iterador = zip(columnas,student)\n",
    "        yield {clave: valor for clave, valor in iterador if clave == 'race/ethnicity' or clave == 'test preparation course'}\n",
    "    \n",
    "with open('./exams.csv') as csvfile:\n",
    "    l5 = []\n",
    "    students = csv.reader(csvfile, delimiter = ',')\n",
    "    columnas = next(students)\n",
    "    for i in generator(students, columnas):\n",
    "        l5.append(i)\n",
    "    print(l5)\n"
   ]
  },
  {
   "cell_type": "code",
   "execution_count": null,
   "metadata": {},
   "outputs": [],
   "source": [
    "##6\n",
    "def generator(students, columnas):\n",
    "    for student in students:\n",
    "        iterador = zip(columnas,student)\n",
    "        yield {clave: valor for clave, valor in iterador if clave == 'race/ethnicity' or clave == 'test preparation course'}\n",
    "    \n",
    "with open('./exams.csv') as csvfile:\n",
    "    l6 = {}\n",
    "    students = csv.reader(csvfile, delimiter = ',')\n",
    "    columnas = next(students)\n",
    "    for x,i in enumerate(generator(students, columnas),start = 1):\n",
    "        l6['Estudiante '+ str(x)] = i\n",
    "    print(l6)"
   ]
  },
  {
   "cell_type": "code",
   "execution_count": null,
   "metadata": {},
   "outputs": [],
   "source": [
    "### 7\n",
    "def generator(students, columnas):\n",
    "    for student in students:\n",
    "        list_students = []\n",
    "        iterador = zip(columnas,student)\n",
    "        l = {clave: valor for clave, valor in iterador}\n",
    "        for i in range(5,8):\n",
    "            list_students.append(student[i])\n",
    "        l['Score'] = list_students\n",
    "        yield  l\n",
    "    \n",
    "with open('./exams.csv') as csvfile:\n",
    "    l7 = {}\n",
    "    students = csv.reader(csvfile, delimiter = ',')\n",
    "    columnas = next(students)\n",
    "    del columnas[5:8]\n",
    "    for x,i in enumerate(generator(students, columnas),start = 1):\n",
    "        l7['Estudiante '+ str(x)] = i\n",
    "    print(l7)"
   ]
  },
  {
   "cell_type": "code",
   "execution_count": null,
   "metadata": {},
   "outputs": [],
   "source": [
    "### 8\n",
    "with open('./exams.csv') as csvfile:\n",
    "    dicc = {}\n",
    "    students = csv.reader(csvfile, delimiter = ',')\n",
    "    columnas = next(students)\n",
    "\n",
    "    tupla = map(lambda x : {tuple ([x[5],x[6],x[7]])}, students)\n",
    "    for x, t in enumerate(tupla, start = 1):\n",
    "        dicc['Estudiante '+str(x)] = t\n",
    "    print(dicc)"
   ]
  },
  {
   "cell_type": "code",
   "execution_count": null,
   "metadata": {},
   "outputs": [],
   "source": [
    "##9\n",
    "with open('./exams.csv') as csvfile:\n",
    "    dicc = {}\n",
    "    students = csv.reader(csvfile, delimiter = ',')\n",
    "    columnas = next(students)\n",
    "    \n",
    "    tupla = map(lambda x : {clave: valor for clave, valor in zip(columnas,x)}, filter(lambda x : x[0] == 'female',students))\n",
    "    for x, t in enumerate(tupla, start = 1):\n",
    "        dicc['Estudiante '+str(x)] = t\n",
    "    print(dicc)"
   ]
  },
  {
   "cell_type": "code",
   "execution_count": null,
   "metadata": {},
   "outputs": [],
   "source": [
    "## 10\n",
    "def generator(students):\n",
    "    list_students = []\n",
    "    for student in students:\n",
    "        for i in range(5,8):\n",
    "            list_students.append(int(student[i]))\n",
    "        yield  {tuple ([student[0],student[1],mean(list_students)])}\n",
    "    \n",
    "with open('./exams.csv') as csvfile:\n",
    "    l10 = {}\n",
    "    students = csv.reader(csvfile, delimiter = ',')\n",
    "    columnas = next(students)\n",
    "    for x,i in enumerate(generator(students),start = 1):\n",
    "        l10['Estudiante '+ str(x)] = i\n",
    "    print(l10)"
   ]
  },
  {
   "cell_type": "code",
   "execution_count": null,
   "metadata": {},
   "outputs": [],
   "source": [
    "###11\n",
    "\n",
    "with open('./exams.csv') as csvfile:\n",
    "    conjunt = set()\n",
    "    students = csv.reader(csvfile, delimiter = ',')\n",
    "    columnas = next(students)\n",
    "    tupla = map(lambda x : ([x[0],x[1],x[4]]), filter(lambda x : x[4] =='completed',students))\n",
    "    for x in tupla:\n",
    "        conjunt.add(tuple(x))\n",
    "    print(conjunt)"
   ]
  },
  {
   "cell_type": "code",
   "execution_count": null,
   "metadata": {},
   "outputs": [],
   "source": [
    "###12\n",
    "with open('./exams.csv') as csvfile:\n",
    "    conjunt = set()\n",
    "    students = csv.reader(csvfile, delimiter = ',')\n",
    "    columnas = next(students)\n",
    "    tupla = map(lambda x : ([x[2],x[3],x[4]]), filter(lambda x : x[2] !='high school',students))\n",
    "    for x in tupla:\n",
    "        conjunt.add(tuple(x))\n",
    "    print(conjunt)"
   ]
  },
  {
   "cell_type": "code",
   "execution_count": null,
   "metadata": {},
   "outputs": [],
   "source": [
    "###13\n",
    "\n",
    "def generator(students):\n",
    "    for student in students:\n",
    "        list_aux = []\n",
    "        for i in range(5,8):\n",
    "            list_aux.append(int(student[i]))\n",
    "        if mean(list_aux) >= 60:\n",
    "            yield ([student[0],student[1],mean(list_aux)])\n",
    "\n",
    "with open('./exams.csv') as csvfile:\n",
    "    conjunt = set()\n",
    "    students = csv.reader(csvfile, delimiter = ',')\n",
    "    columnas = next(students)\n",
    "    for x in generator(students):\n",
    "        conjunt.add(tuple(x))\n",
    "    print(conjunt)\n"
   ]
  },
  {
   "cell_type": "code",
   "execution_count": null,
   "metadata": {},
   "outputs": [],
   "source": [
    "###14\n",
    "def generator(students):\n",
    "    for student in students:\n",
    "        list_aux = []\n",
    "        for i in range(5,8):\n",
    "            list_aux.append(int(student[i]))\n",
    "        if mean(list_aux) == 60:\n",
    "            yield ([student[0],student[1],mean(list_aux)])\n",
    "\n",
    "with open('./exams.csv') as csvfile:\n",
    "    conjunt = set()\n",
    "    students = csv.reader(csvfile, delimiter = ',')\n",
    "    columnas = next(students)\n",
    "    for x in generator(students):\n",
    "        conjunt.add(tuple(x))\n",
    "    print(conjunt)"
   ]
  },
  {
   "cell_type": "code",
   "execution_count": null,
   "metadata": {},
   "outputs": [],
   "source": [
    "##15\n",
    "def generator(students):\n",
    "    for student in students:\n",
    "        list_aux = []\n",
    "        for i in range(5,8):\n",
    "            list_aux.append(int(student[i]))\n",
    "        if student[0] ==  'female':\n",
    "            yield ([student[0],student[1],mean(list_aux)])\n",
    "\n",
    "with open('./exams.csv') as csvfile:\n",
    "    conjunt = set()\n",
    "    students = csv.reader(csvfile, delimiter = ',')\n",
    "    columnas = next(students)\n",
    "    for x in generator(students):\n",
    "        conjunt.add(tuple(x))\n",
    "    print(conjunt)\n"
   ]
  },
  {
   "cell_type": "code",
   "execution_count": null,
   "metadata": {},
   "outputs": [],
   "source": [
    "###16 \n",
    "# with open('./exams.csv') as csvfile:\n",
    "#     conjunt = set()\n",
    "#     conjunto11 = set()\n",
    "#     conjunto12 = set()\n",
    "#     conjuntoFinal = set()\n",
    "#     students = csv.reader(csvfile, delimiter = ',')\n",
    "#     columnas = next(students)\n",
    "#     tupla = map(lambda x :([x[0],x[1],x[4]]), filter(lambda x : x[4]=='completed',students))\n",
    "#     tupla2 = map(lambda x :([x[0],x[1],x[4]]), filter(lambda x : x[0] =='female' and x[1]!='group A',tupla))\n",
    "#     for x, i in tupla, tupla2:\n",
    "#         conjuntoFinal = x.union(i)\n",
    "#     print(conjuntoFinal)\n",
    "\n",
    "\n",
    "# with open('./exams.csv') as csvfile:\n",
    "#     students = csv.reader(csvfile, delimiter = ',')\n",
    "#     columnas = next(students)\n",
    "#     conjunto11 = set()\n",
    "#     conjunto12 = set()\n",
    "#     conjuntoFinal = set()\n",
    "#     for student in students:\n",
    "#         if student[4]=='completed':\n",
    "#             conjunto11.add(tuple([student[0],student[1],student[4]]))\n",
    "#         if student[0] =='female' and student[1]!='group A':\n",
    "#             conjunto12.add(tuple([student[0],student[1],student[4]]))\n",
    "#     conjuntoFinal = conjunto11.union(conjunto12)\n",
    "#     print(conjuntoFinal)"
   ]
  }
 ],
 "metadata": {
  "kernelspec": {
   "display_name": "Python 3.10.6 64-bit",
   "language": "python",
   "name": "python3"
  },
  "language_info": {
   "codemirror_mode": {
    "name": "ipython",
    "version": 3
   },
   "file_extension": ".py",
   "mimetype": "text/x-python",
   "name": "python",
   "nbconvert_exporter": "python",
   "pygments_lexer": "ipython3",
   "version": "3.10.6"
  },
  "orig_nbformat": 4,
  "vscode": {
   "interpreter": {
    "hash": "916dbcbb3f70747c44a77c7bcd40155683ae19c65e1c03b4aa3499c5328201f1"
   }
  }
 },
 "nbformat": 4,
 "nbformat_minor": 2
}
