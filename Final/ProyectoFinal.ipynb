{
 "cells": [
  {
   "cell_type": "markdown",
   "metadata": {},
   "source": [
    "### Para este proyecto se ocupo la librería de Spotify para consumir recursos de la API y poder hacer las peticiones correctamente."
   ]
  },
  {
   "cell_type": "code",
   "execution_count": 4,
   "metadata": {},
   "outputs": [],
   "source": [
    "from spotipy.oauth2 import SpotifyClientCredentials, SpotifyOAuth # type: ignore\n",
    "import spotipy # type: ignore\n",
    "import sys\n",
    "from pprint import pprint\n",
    "from pymonad.tools import curry\n",
    "from pymonad.reader import Compose\n",
    "import pymonad.tools\n",
    "from oslash import Just, Nothing, List\n",
    "import functools\n",
    "import operator"
   ]
  },
  {
   "cell_type": "code",
   "execution_count": 5,
   "metadata": {},
   "outputs": [],
   "source": [
    "client_id = \"01f2938c5262491da9b4ccfc11aea077\"\n",
    "client_secret = \"978c8f2e99f84ad99a7f9f13ac59a3fa\"\n",
    "sp = spotipy.Spotify(client_credentials_manager = SpotifyClientCredentials(client_id, client_secret))"
   ]
  },
  {
   "cell_type": "markdown",
   "metadata": {},
   "source": [
    "#### 1.- Obtener 20 canciones de un artista dado por el usuario."
   ]
  },
  {
   "cell_type": "code",
   "execution_count": 6,
   "metadata": {},
   "outputs": [
    {
     "name": "stdout",
     "output_type": "stream",
     "text": [
      "1: Ahora Te Puedes Marchar\n",
      "2: La Media Vuelta\n",
      "3: La Incondicional\n",
      "4: Culpable O No - Miénteme Como Siempre\n",
      "5: Sabor a Mi\n",
      "6: Hasta Que Me Olvides\n",
      "7: Cuando Calienta El Sol\n",
      "8: No Sé Tú\n",
      "9: Por Debajo De La Mesa\n",
      "10: La Mentira\n",
      "11: El Ultimo Adiós - Varios Artistas Version\n",
      "12: Entrégate\n",
      "13: La bikina - En vivo\n",
      "14: Inolvidable\n",
      "15: Tengo Todo Excepto a Ti\n",
      "16: Suave\n",
      "17: Si Nos Dejan - En Vivo\n",
      "18: Usted\n",
      "19: Fría Como El Viento\n",
      "20: Sabes Una Cosa\n"
     ]
    }
   ],
   "source": [
    "def generador(author:str):\n",
    "    result = sp.search(author, limit=20)\n",
    "    for i in range(len(result[\"tracks\"][\"items\"])):\n",
    "        yield result[\"tracks\"][\"items\"][i][\"name\"]\n",
    "\n",
    "if __name__ == '__main__':\n",
    "    author = input(\"Ingrese el nombre del autor: \")\n",
    "    for i,j in enumerate(generador(author), start=1):\n",
    "        print(str(i)+\": \"+j)"
   ]
  },
  {
   "cell_type": "markdown",
   "metadata": {},
   "source": [
    "#### 2.- Obtener la cancion mas larga de las primeras 20 canciones de un artista dado por el usuario."
   ]
  },
  {
   "cell_type": "code",
   "execution_count": 7,
   "metadata": {},
   "outputs": [
    {
     "name": "stdout",
     "output_type": "stream",
     "text": [
      "La cancion mas larga encontrada es:  Suave\n",
      "Con una duracion de:  Just 4.826666666666667\n"
     ]
    }
   ],
   "source": [
    "def oneover(x):\n",
    "    try:\n",
    "        ret = x[1]/60000\n",
    "        print(\"La cancion mas larga encontrada es: \",x[0])\n",
    "    except:\n",
    "        return Nothing()\n",
    "    return Just(ret)\n",
    "\n",
    "def leer(autor:str):\n",
    "    result = sp.search(autor, limit=20)\n",
    "    listaAux = list(map(lambda x :[x[\"name\"], x[\"duration_ms\"]], result[\"tracks\"][\"items\"]))\n",
    "    def maxL():\n",
    "        aux2 = max(listaAux, key=lambda x : x[1])\n",
    "        a = Just(aux2).bind(oneover)\n",
    "        print(\"Con una duracion de: \",a)\n",
    "    return maxL\n",
    "\n",
    "if __name__ == '__main__':\n",
    "    author = input(\"Ingrese el nombre del autor: \")\n",
    "    r = leer(author)\n",
    "    r()"
   ]
  },
  {
   "cell_type": "markdown",
   "metadata": {},
   "source": [
    "#### 3.- Crea una tupla de tuplas con los generos: banda, rock, electronica y 20 canciones de cada genero."
   ]
  },
  {
   "cell_type": "code",
   "execution_count": 8,
   "metadata": {},
   "outputs": [
    {
     "name": "stdout",
     "output_type": "stream",
     "text": [
      "(('Banda', ['Cuál Adiós', 'BANDS!', 'El Gato y Yo', 'Bands', 'Banda', 'Banda', 'El Cabrón', 'No Me Quedaron Ganas', 'Alaba', 'Bands', 'No Me Perdones', 'Déjame/Ya No Vives En Mí (Cuál Adiós) - En Vivo', 'Bands', 'Negocio Cuajado/El Quesito - En Vivo', 'Dime Cómo', 'Bands', 'BANDO', 'Ingrato Querer', 'Yo Soy Generasion', 'Paixão Bandida']), ('Rock', ['Rockstar', 'Paradise City', 'Spiders', 'Rock Of Ages', 'Rock Me', 'Rocket Queen', 'Rock Me Amadeus', 'Surfacing', 'Surfacing', 'Rock Me', 'Rock Rock (Till You Drop)', 'Brompton Cocktail', \"Rock 'n' Roll High School - 2002 Remaster\", 'Rock Me on the Water', 'Deutschland', 'Rock and Roll - Remaster', 'Rock On', 'Rockstar', 'Rock My Heart - Radio Mix', \"Sweet Child O' Mine\"]), ('Electronica', ['Música Electrónica Nueva Del 2020 #8', 'ELECTRÓNICA', 'Electronica (Guaracha 2022)', 'Electrónica Con Mucho Bajo Par Retumbar', 'Music Metaverse', 'Música Electrónica Nueva Del 2022 #7', 'Música Electrónica Nueva Del 2021 #41', 'Música Electrónica Nueva Del 2022 #20', 'Música Electrónica Nueva Del 2020 #15', 'Música Electrónica Nueva Del 2021 #38', 'Pray For Love', 'Música Electrónica Nueva Del 2022 #9', 'House Del Futuro', 'Musica Electronica para Videos LOBO PLIUM', 'Deep', 'ROSA ELECTRO LATINO', 'Música Electrónica Nueva Del 2020 #21', 'Electronic Galaxy Americana', 'musica electronica the hause', 'Música Electrónica Nueva Del 2022 #31']))\n"
     ]
    }
   ],
   "source": [
    "def generador(genre:str)->list:\n",
    "    result = sp.search(q = 'genre' + genre, limit = 20)\n",
    "    return list(map(lambda x : x[\"name\"], result[\"tracks\"][\"items\"]))\n",
    "\n",
    "if __name__ == '__main__':\n",
    "    generos= [\"Banda\", \"Rock\", \"Electronica\"]\n",
    "    canciones = list(map(lambda x : generador(x), generos))\n",
    "    final= tuple(zip(generos, canciones))\n",
    "    print(final)"
   ]
  },
  {
   "cell_type": "markdown",
   "metadata": {},
   "source": [
    "#### 4.- Obten el tiempo total de las primeras 30 canciones de un artista dado por el usuario."
   ]
  },
  {
   "cell_type": "code",
   "execution_count": 9,
   "metadata": {},
   "outputs": [
    {
     "name": "stdout",
     "output_type": "stream",
     "text": [
      "Just 124.2601\n"
     ]
    }
   ],
   "source": [
    "def fun(author:str)->list:\n",
    "    result = sp.search(author, limit=30)\n",
    "    aux2= []\n",
    "    return list(map(lambda x: x[\"duration_ms\"], result[\"tracks\"][\"items\"]))\n",
    "\n",
    "if __name__ == '__main__':\n",
    "    author = input(\"Ingrese el nombre del autor: \")\n",
    "    r = fun(author)\n",
    "    r2= functools.reduce(operator.add,r)/ 60000\n",
    "    final = Just(r2)\n",
    "    print(final)"
   ]
  },
  {
   "cell_type": "markdown",
   "metadata": {},
   "source": [
    "#### 5.- Obtener 10 canciones de un artista dado por el usuario."
   ]
  },
  {
   "cell_type": "code",
   "execution_count": 10,
   "metadata": {},
   "outputs": [
    {
     "name": "stdout",
     "output_type": "stream",
     "text": [
      "['Ahora Te Puedes Marchar', 'La Media Vuelta', 'La Incondicional', 'Culpable O No - Miénteme Como Siempre', 'Sabor a Mi', 'Hasta Que Me Olvides', 'Cuando Calienta El Sol', 'No Sé Tú', 'Por Debajo De La Mesa', 'La Mentira']\n"
     ]
    }
   ],
   "source": [
    "def read_artist()->str:\n",
    "    l = input('Ingrese un artista: ')\n",
    "    return l\n",
    "\n",
    "def search1(la:str)-> list:\n",
    "    b = sp.search(la, limit=10)\n",
    "    return list(map(lambda x: x[\"name\"], b[\"tracks\"][\"items\"]))\n",
    "    \n",
    "if __name__ == '__main__':\n",
    "    print(search1(read_artist()))"
   ]
  },
  {
   "cell_type": "markdown",
   "metadata": {},
   "source": [
    "#### 6.- Crear un conjunto donde las canciones del top 10 de luis miguel no esten en las canciones generales de ese artista"
   ]
  },
  {
   "cell_type": "code",
   "execution_count": 11,
   "metadata": {},
   "outputs": [
    {
     "name": "stdout",
     "output_type": "stream",
     "text": [
      "{'Sabor a Mi', 'Tengo Todo Excepto a Ti', 'La bikina - En vivo'}\n"
     ]
    }
   ],
   "source": [
    "def dif(a:str, u:str)-> list:\n",
    "    b = sp.search(a, limit=10)\n",
    "    lista = list(map(lambda x: [0, x[\"name\"]], b[\"tracks\"][\"items\"]))\n",
    "    \n",
    "    response = sp.artist_top_tracks(u)\n",
    "    lista += list(map(lambda x: [1, x[\"name\"]], response[\"tracks\"]))\n",
    "    return lista\n",
    "\n",
    "if __name__ == '__main__':\n",
    "    urn = 'spotify:artist:2nszmSgqreHSdJA3zWPyrW'\n",
    "    c1 = set()\n",
    "    c2 = set()\n",
    "    lista2 = dif('Luis Miguel', urn)\n",
    "    c1 = {x[1] for x in filter(lambda x: x[0] == 0, lista2)}\n",
    "    c2 = {x[1] for x in filter(lambda x: x[0] != 0, lista2)}\n",
    "    # print(c1)\n",
    "    # print(c2)\n",
    "    c3 = c2.symmetric_difference(c2.intersection(c1))\n",
    "    print(c3)"
   ]
  },
  {
   "cell_type": "markdown",
   "metadata": {},
   "source": [
    "#### 7.- Mostrar una lista de canciones del albúm \"00:00\" del artista \"Siddhartha\", pero eliminando la primera canción"
   ]
  },
  {
   "cell_type": "code",
   "execution_count": 19,
   "metadata": {},
   "outputs": [
    {
     "name": "stdout",
     "output_type": "stream",
     "text": [
      "['Cardúmenes', 'Paraíso Lunar', '00:00', 'Huracanes', 'Mapa', '80 Días', 'Balsa', 'Suburbios', 'No Es Antes Ni Es Después']\n"
     ]
    }
   ],
   "source": [
    "def tail(x:list):\n",
    "    if x:\n",
    "        del x[0]\n",
    "\n",
    "if __name__ == '__main__':\n",
    "    urn = 'spotify:album:371qTqzTdc0reynwwfM2Bt'\n",
    "    a = sp.album(urn)\n",
    "    a1 = list(map(lambda x: x[\"name\"], a[\"tracks\"][\"items\"]))\n",
    "    # print(a1)\n",
    "    tail(a1)\n",
    "    print(a1)"
   ]
  },
  {
   "cell_type": "markdown",
   "metadata": {},
   "source": [
    "#### 8.- Mostrar una lista con los géneros del artista \"José José\""
   ]
  },
  {
   "cell_type": "code",
   "execution_count": 13,
   "metadata": {},
   "outputs": [
    {
     "name": "stdout",
     "output_type": "stream",
     "text": [
      "['bolero', 'cancion melodica', 'latin pop', 'ranchera']\n"
     ]
    }
   ],
   "source": [
    "def closer(a):\n",
    "    def genres(g):\n",
    "        artist = list(map(lambda x : x, sp.artist(a)[g]))\n",
    "        print(artist)\n",
    "    return genres\n",
    "\n",
    "if __name__ == '__main__':\n",
    "    urn = 'spotify:artist:4mN0qcMxWX8oToqfDPM5yV'\n",
    "    c = closer(urn)\n",
    "    c('genres')"
   ]
  },
  {
   "cell_type": "markdown",
   "metadata": {},
   "source": [
    "#### 9.- Promedio de duración en ms de las primeras 30 canciones de un artista dado por el usuario."
   ]
  },
  {
   "cell_type": "code",
   "execution_count": 14,
   "metadata": {},
   "outputs": [
    {
     "name": "stdout",
     "output_type": "stream",
     "text": [
      "Just 248520.2\n"
     ]
    }
   ],
   "source": [
    "@curry(1)\n",
    "def sumc(x):\n",
    "    try:\n",
    "        return sum(x)\n",
    "    except:\n",
    "        return Nothing()\n",
    "\n",
    "def oneover(x):\n",
    "    try:\n",
    "        ret = x[0]/x[1]\n",
    "    except:\n",
    "        return Nothing()\n",
    "    return Just(ret)\n",
    "\n",
    "def fun(author:str)->list:\n",
    "    result = sp.search(author, limit=30)\n",
    "    aux2 = list(map(lambda x: x[\"duration_ms\"], result[\"tracks\"][\"items\"]))\n",
    "    return sumc(aux2), len(result[\"tracks\"][\"items\"])\n",
    "\n",
    "if __name__ == '__main__':\n",
    "    g = input('Ingrese un artista: ')\n",
    "    a =Just(fun(g)).bind(oneover)\n",
    "    print(a)"
   ]
  },
  {
   "cell_type": "markdown",
   "metadata": {},
   "source": [
    "#### 10.- Obtener los artistas de 50 canciones en general que colaboraron en un artista dado por el usuario."
   ]
  },
  {
   "cell_type": "code",
   "execution_count": 15,
   "metadata": {},
   "outputs": [
    {
     "name": "stdout",
     "output_type": "stream",
     "text": [
      "{'Romeo Santos', 'Shakira', 'Luis Fonsi', 'Wilkins', 'José Feliciano', 'La Ley', 'Gian Marco', 'Jennifer Lopez', 'Jon Secada', 'Christina Aguilera', 'Olga Tañón', 'Limi-T 21', 'Luis Miguel Del Amargue', 'Marco Antonio Solís', 'Ana Gabriel', 'Alicia Villarreal', 'Paulina Rubio', 'Ricardo Montaner', 'Chayanne', 'Lucía Méndez', 'Gloria Estefan', 'Yuri', 'Ricky Martin', 'Thalia', 'Miguel Bosé', 'Carlos Ponce', 'Luis Miguel', 'Gilberto Santa Rosa', 'Alejandro Fernández', 'Melina Leon', 'José José', 'Celia Cruz', 'Jaci Velasquez', 'Alberto \"Beto\" Zapata', 'Ana Bárbara', 'Dj Adoni', 'Alejandro Sanz', 'Emmanuele', 'Los Tigres Del Norte', 'Jorge Hernández', 'Juan Luis Guerra 4.40', 'Carlos Vives', 'José Luis Rodríguez', 'Giselle'}\n"
     ]
    }
   ],
   "source": [
    "def generador(author:str)->list:\n",
    "    result = sp.search(author, limit=50)\n",
    "    return list(map(lambda x: x[\"artists\"], result[\"tracks\"][\"items\"]))\n",
    "    \n",
    "def artistas(it:list)->set:\n",
    "    aux = []\n",
    "    for i in it:\n",
    "        aux += list(map(lambda x : x[\"name\"], i))\n",
    "    return(set(aux))\n",
    "\n",
    "if __name__ == '__main__':\n",
    "    autor = input(\"Ingrese el nombre del autor: \")\n",
    "    print(artistas(generador(autor)))\n"
   ]
  },
  {
   "cell_type": "markdown",
   "metadata": {},
   "source": [
    "#### 11.- Obtener un diccionario de diccionarios donde se muestre a los artistas con una lista de 30 de sus canciones"
   ]
  },
  {
   "cell_type": "code",
   "execution_count": 18,
   "metadata": {},
   "outputs": [
    {
     "name": "stdout",
     "output_type": "stream",
     "text": [
      "{'Cantante 1': {'luis miguel': ['Ahora Te Puedes Marchar', 'La Media Vuelta', 'La Incondicional', 'Culpable O No - Miénteme Como Siempre', 'Sabor a Mi', 'Hasta Que Me Olvides', 'Cuando Calienta El Sol', 'No Sé Tú', 'Por Debajo De La Mesa', 'La Mentira', 'El Ultimo Adiós - Varios Artistas Version', 'Entrégate', 'La bikina - En vivo', 'Inolvidable', 'Tengo Todo Excepto a Ti', 'Suave', 'Si Nos Dejan - En Vivo', 'Usted', 'Fría Como El Viento', 'Sabes Una Cosa', 'De Rodillas Te Pido', 'México En La Piel', 'No Me Platiques Más', 'La Barca', 'Amarte es un placer', 'Voy a Apagar La Luz / Contigo Aprendí', 'Medley (Yo Que No Vivo Sin Ti / Culpable O No / Más Allá De Todo / Fría Como El Viento / Entrégate /Tengo Todo Excepto A Ti / La Incondicional) - En Vivo', 'Mucho Corazón', 'Será Que No Me Amas (Blame It on the Boogie)', 'El Reloj']}, 'Cantante 2': {'jose jose ': ['El Amar y el Querer', 'Feliz Navidad', 'El Triste', 'Vamos a Darnos Tiempo', 'JGL', 'Almohada', 'Gavilán o Paloma', 'Hero (feat. Josey Scott)', 'Lo Dudo', \"What's Luv? (feat. Ja-Rule & Ashanti)\", 'Quiero Perderme Contigo', 'El Triste', 'José José', 'Hakuna Matata - From \"The Lion King\" Soundtrack', 'La Nave del Olvido', 'Si Me Dejas Ahora', 'Qué Más Pues?', 'He Renunciado a Ti - Remasterizado', 'Ten Rounds with Jose Cuervo - Recall Mix', 'Lo Pasado, Pasado', 'Heartbeats', 'Lo Que No Fue No Será', 'Preso', 'Está Noche', 'El Triste', 'Seré', 'Todo A Su Tiempo', 'Me Vas a Echar de Menos', 'In Da Getto', 'Josephine']}}\n"
     ]
    }
   ],
   "source": [
    "autores = []\n",
    "dicc = {}\n",
    "n = int(input('Ingrese el número de artistas: '))\n",
    "for i in range (n):\n",
    "    autores.append(input('Ingrese el nombre del artista: '))\n",
    "tupla = [{autor:list(map(lambda x : x[\"name\"], sp.search(autor, limit=30)[\"tracks\"][\"items\"]))} for autor in autores]\n",
    "for x, t in enumerate(tupla, start = 1):\n",
    "    dicc['Cantante '+ str(x)] = t\n",
    "print(dicc)\n"
   ]
  }
 ],
 "metadata": {
  "kernelspec": {
   "display_name": "Python 3.9.12 ('funenv39')",
   "language": "python",
   "name": "python3"
  },
  "language_info": {
   "codemirror_mode": {
    "name": "ipython",
    "version": 3
   },
   "file_extension": ".py",
   "mimetype": "text/x-python",
   "name": "python",
   "nbconvert_exporter": "python",
   "pygments_lexer": "ipython3",
   "version": "3.9.12"
  },
  "orig_nbformat": 4,
  "vscode": {
   "interpreter": {
    "hash": "975faabd8f491454f0ce22ddc05069e599cf17cabd187f9d8b9a5bc64316e705"
   }
  }
 },
 "nbformat": 4,
 "nbformat_minor": 2
}
