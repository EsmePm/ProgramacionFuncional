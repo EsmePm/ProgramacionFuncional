{
 "cells": [
  {
   "cell_type": "code",
   "execution_count": null,
   "metadata": {},
   "outputs": [],
   "source": [
    "from spotipy.oauth2 import SpotifyClientCredentials, SpotifyOAuth\n",
    "import spotipy\n",
    "import sys\n",
    "from pprint import pprint\n",
    "from pymonad.tools import curry\n",
    "from pymonad.reader import Compose\n",
    "import pymonad.tools\n",
    "from oslash import Just, Nothing, List\n",
    "import functools\n",
    "import operator"
   ]
  },
  {
   "cell_type": "code",
   "execution_count": null,
   "metadata": {},
   "outputs": [],
   "source": [
    "client_id = \"01f2938c5262491da9b4ccfc11aea077\"\n",
    "client_secret = \"978c8f2e99f84ad99a7f9f13ac59a3fa\"\n",
    "sp = spotipy.Spotify(client_credentials_manager = SpotifyClientCredentials(client_id, client_secret))"
   ]
  },
  {
   "cell_type": "markdown",
   "metadata": {},
   "source": [
    "#### 1.- Obtener 20 canciones de un artista dado por el usuario."
   ]
  },
  {
   "cell_type": "code",
   "execution_count": null,
   "metadata": {},
   "outputs": [],
   "source": [
    "def generador(author:str):\n",
    "    result = sp.search(author, limit=20)\n",
    "    for i in range(len(result[\"tracks\"][\"items\"])):\n",
    "        yield result[\"tracks\"][\"items\"][i][\"name\"]\n",
    "\n",
    "if __name__ == '__main__':\n",
    "    author = input(\"Ingrese el nombre del autor: \")\n",
    "    for i,j in enumerate(generador(author)):\n",
    "        print(i+1,\": \",j)"
   ]
  },
  {
   "cell_type": "markdown",
   "metadata": {},
   "source": [
    "#### 2.- Obtener la cancion mas larga de las primeras 20 canciones de un artista dado por el usuario."
   ]
  },
  {
   "cell_type": "code",
   "execution_count": null,
   "metadata": {},
   "outputs": [],
   "source": [
    "def oneover(x):\n",
    "    try:\n",
    "        ret = x[1]/60000\n",
    "        print(\"La cancion mas larga encontrada es: \",x[0])\n",
    "    except:\n",
    "        return Nothing()\n",
    "    return Just(ret)\n",
    "\n",
    "def leer(autor:str):\n",
    "    result = sp.search(autor, limit=20)\n",
    "    listaAux = list(map(lambda x :[x[\"name\"], x[\"duration_ms\"]], result[\"tracks\"][\"items\"]))\n",
    "    def maxL():\n",
    "        aux2 = max(listaAux, key=lambda x : x[1])\n",
    "        a = Just(aux2).bind(oneover)\n",
    "        print(\"Con una duracion de: \",a)\n",
    "    return maxL\n",
    "\n",
    "if __name__ == '__main__':\n",
    "    author = input(\"Ingrese el nombre del autor: \")\n",
    "    r = leer(author)\n",
    "    r()"
   ]
  },
  {
   "cell_type": "markdown",
   "metadata": {},
   "source": [
    "#### 3.- Crea una tupla de tuplas con los generos: banda, rock, electronica y 20 canciones de cada genero."
   ]
  },
  {
   "cell_type": "code",
   "execution_count": null,
   "metadata": {},
   "outputs": [],
   "source": [
    "def generador(genre:str)->list:\n",
    "    result = sp.search(q = 'genre' + genre, limit = 20)\n",
    "    return list(map(lambda x : x[\"name\"], result[\"tracks\"][\"items\"]))\n",
    "\n",
    "if __name__ == '__main__':\n",
    "    generos= [\"Banda\", \"Rock\", \"Electronica\"]\n",
    "    canciones = list(map(lambda x : generador(x), generos))\n",
    "    final= tuple(zip(generos, canciones))\n",
    "    print(final)"
   ]
  },
  {
   "cell_type": "markdown",
   "metadata": {},
   "source": [
    "#### 4.- Obten el tiempo total de las primeras 30 canciones de un artista dado por el usuario."
   ]
  },
  {
   "cell_type": "code",
   "execution_count": null,
   "metadata": {},
   "outputs": [],
   "source": [
    "def fun(author:str)->list:\n",
    "    result = sp.search(author, limit=30)\n",
    "    aux2= []\n",
    "    return list(map(lambda x: x[\"duration_ms\"], result[\"tracks\"][\"items\"]))\n",
    "\n",
    "if __name__ == '__main__':\n",
    "    author = input(\"Ingrese el nombre del autor: \")\n",
    "    r = fun(author)\n",
    "    r2= functools.reduce(operator.add,r)/ 60000\n",
    "    final = Just(r2)\n",
    "    print(final)"
   ]
  },
  {
   "cell_type": "markdown",
   "metadata": {},
   "source": [
    "#### 5.- Obtener 10 canciones de un artista dado por el usuario."
   ]
  },
  {
   "cell_type": "code",
   "execution_count": null,
   "metadata": {},
   "outputs": [],
   "source": [
    "def read_artist()->str:\n",
    "    l = input('Ingrese un artista: ')\n",
    "    return l\n",
    "\n",
    "def search1(la:str)-> list:\n",
    "    b = sp.search(la, limit=10)\n",
    "    return list(map(lambda x: x[\"name\"], b[\"tracks\"][\"items\"]))\n",
    "\n",
    "print(search1(read_artist()))"
   ]
  },
  {
   "cell_type": "markdown",
   "metadata": {},
   "source": [
    "#### 6.- Crear un conjunto donde las canciones del top 10 de luis miguel no esten en las canciones generales de ese artista"
   ]
  },
  {
   "cell_type": "code",
   "execution_count": null,
   "metadata": {},
   "outputs": [],
   "source": [
    "def dif(a:str, u:str):\n",
    "    b = sp.search(a, limit=10)\n",
    "    lista = list(map(lambda x: [0, x[\"name\"]], b[\"tracks\"][\"items\"]))\n",
    "    \n",
    "    response = sp.artist_top_tracks(u)\n",
    "    lista += list(map(lambda x: [1, x[\"name\"]], response[\"tracks\"]))\n",
    "    return lista\n",
    "\n",
    "urn = 'spotify:artist:2nszmSgqreHSdJA3zWPyrW'\n",
    "c1 = set()\n",
    "c2 = set()\n",
    "lista2 = dif('Luis Miguel', urn)\n",
    "c1 = {x[1] for x in filter(lambda x: x[0] == 0, lista2)}\n",
    "c2 = {x[1] for x in filter(lambda x: x[0] != 0, lista2)}\n",
    "# print(c1)\n",
    "# print(c2)\n",
    "c3 = c2.symmetric_difference(c2.intersection(c1))\n",
    "print(c3)"
   ]
  },
  {
   "cell_type": "markdown",
   "metadata": {},
   "source": [
    "#### 7.- Mostrar una lista de canciones del albúm \"00:00\" del artista \"Siddhartha\", pero eliminando la primera canción"
   ]
  },
  {
   "cell_type": "code",
   "execution_count": null,
   "metadata": {},
   "outputs": [],
   "source": [
    "def tail(x:list)->list:\n",
    "    if x:\n",
    "        del x[0]\n",
    "\n",
    "urn = 'spotify:album:371qTqzTdc0reynwwfM2Bt'\n",
    "a = sp.album(urn)\n",
    "a1 = list(map(lambda x: x[\"name\"], a[\"tracks\"][\"items\"]))\n",
    "# print(a1)\n",
    "tail(a1)\n",
    "print(a1)"
   ]
  },
  {
   "cell_type": "markdown",
   "metadata": {},
   "source": [
    "#### 8.- Mostrar una lista con los géneros del artista \"José José\""
   ]
  },
  {
   "cell_type": "code",
   "execution_count": null,
   "metadata": {},
   "outputs": [],
   "source": [
    "urn = 'spotify:artist:4mN0qcMxWX8oToqfDPM5yV'\n",
    "def closer(a):\n",
    "    def genres(g):\n",
    "        artist = list(map(lambda x : x, sp.artist(a)[g]))\n",
    "        print(artist)\n",
    "    return genres\n",
    "\n",
    "c = closer(urn)\n",
    "c('genres')"
   ]
  },
  {
   "cell_type": "markdown",
   "metadata": {},
   "source": [
    "#### 9.- Promedio de duración en ms de las primeras 30 canciones de un artista dado por el usuario."
   ]
  },
  {
   "cell_type": "code",
   "execution_count": null,
   "metadata": {},
   "outputs": [],
   "source": [
    "@curry(1)\n",
    "def sumc(x):\n",
    "    try:\n",
    "        return sum(x)\n",
    "    except:\n",
    "        return Nothing()\n",
    "\n",
    "def oneover(x):\n",
    "    try:\n",
    "        ret = x[0]/x[1]\n",
    "    except:\n",
    "        return Nothing()\n",
    "    return Just(ret)\n",
    "\n",
    "def fun(author:str)->list:\n",
    "    result = sp.search(author, limit=30)\n",
    "    aux2 = list(map(lambda x: x[\"duration_ms\"], result[\"tracks\"][\"items\"]))\n",
    "    return sumc(aux2), len(result[\"tracks\"][\"items\"])\n",
    "\n",
    "g = input('Ingrese un artista: ')\n",
    "a =Just(fun(g)).bind(oneover)\n",
    "print(a)"
   ]
  },
  {
   "cell_type": "markdown",
   "metadata": {},
   "source": [
    "#### 10.- Obtener los artistas de 50 canciones en general que colaboraron en un artista dado por el usuario."
   ]
  },
  {
   "cell_type": "code",
   "execution_count": null,
   "metadata": {},
   "outputs": [],
   "source": [
    "def generador(author:str):\n",
    "    result = sp.search(author, limit=50)\n",
    "    return list(map(lambda x: x[\"artists\"], result[\"tracks\"][\"items\"]))\n",
    "    \n",
    "def artistas(it):\n",
    "    aux = []\n",
    "    for i in it:\n",
    "        aux += list(map(lambda x : x[\"name\"], i))\n",
    "    return(set(aux))\n",
    "\n",
    "if __name__ == '__main__':\n",
    "    autor = input(\"Ingrese el nombre del autor: \")\n",
    "    print(artistas(generador(autor)))"
   ]
  },
  {
   "cell_type": "markdown",
   "metadata": {},
   "source": [
    "#### 11.- Obtener un diccionario de diccionarios donde se muestre a los artistas con una lista de 30 de sus canciones"
   ]
  },
  {
   "cell_type": "code",
   "execution_count": null,
   "metadata": {},
   "outputs": [],
   "source": [
    "autores = []\n",
    "dicc = {}\n",
    "n = int(input('Ingrese el número de artistas: '))\n",
    "for i in range (n):\n",
    "    autores.append(input('Ingrese el nombre del artista: '))\n",
    "tupla = [{autor:list(map(lambda x : x[\"name\"], sp.search(autor, limit=30)[\"tracks\"][\"items\"]))} for autor in autores]\n",
    "for x, t in enumerate(tupla, start = 1):\n",
    "    dicc['Cantante '+ str(x)] = t\n",
    "print(dicc)\n"
   ]
  }
 ],
 "metadata": {
  "kernelspec": {
   "display_name": "Python 3.9.12 ('funenv39')",
   "language": "python",
   "name": "python3"
  },
  "language_info": {
   "codemirror_mode": {
    "name": "ipython",
    "version": 3
   },
   "file_extension": ".py",
   "mimetype": "text/x-python",
   "name": "python",
   "nbconvert_exporter": "python",
   "pygments_lexer": "ipython3",
   "version": "3.9.12"
  },
  "orig_nbformat": 4,
  "vscode": {
   "interpreter": {
    "hash": "975faabd8f491454f0ce22ddc05069e599cf17cabd187f9d8b9a5bc64316e705"
   }
  }
 },
 "nbformat": 4,
 "nbformat_minor": 2
}
