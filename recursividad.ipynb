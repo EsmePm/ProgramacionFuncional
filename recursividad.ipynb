{
 "cells": [
  {
   "cell_type": "code",
   "execution_count": 2,
   "metadata": {},
   "outputs": [
    {
     "name": "stdout",
     "output_type": "stream",
     "text": [
      "24\n"
     ]
    }
   ],
   "source": [
    "def factorial(n):\n",
    "\tif n > 1:\n",
    "\t\tx = n * factorial(n - 1)\n",
    "\telse:\n",
    "\t\tx = 1 \n",
    "\treturn x\n",
    "    \n",
    "print(factorial(4))"
   ]
  },
  {
   "cell_type": "code",
   "execution_count": 4,
   "metadata": {},
   "outputs": [
    {
     "name": "stdout",
     "output_type": "stream",
     "text": [
      "21\n"
     ]
    }
   ],
   "source": [
    "def fibonacci(n):\n",
    "\tif n==0 or n==1:\n",
    "\t\tx=n \n",
    "\telse:\n",
    "\t\tx = fibonacci(n-1) + fibonacci(n-2)\n",
    "\treturn x\n",
    "    \n",
    "print(fibonacci(8)) # 21"
   ]
  },
  {
   "cell_type": "code",
   "execution_count": 5,
   "metadata": {},
   "outputs": [
    {
     "name": "stdout",
     "output_type": "stream",
     "text": [
      "Enter 8\n",
      "Enter 7\n",
      "Enter 6\n",
      "Enter 5\n",
      "Enter 4\n",
      "Enter 3\n",
      "Enter 2\n",
      "Enter 1\n",
      "Exit 1\n",
      "Enter 0\n",
      "Exit 0\n",
      "Exit 2\n",
      "Exit 3\n",
      "Exit 4\n",
      "Exit 5\n",
      "Exit 6\n",
      "Exit 7\n",
      "Exit 8\n",
      "21\n"
     ]
    }
   ],
   "source": [
    "from functools import lru_cache\n",
    "    \n",
    "@lru_cache()\n",
    "def fibonacci(n):\n",
    "\tprint('Enter', n)\n",
    "\tif n==0:\n",
    "\t\tx=0 \n",
    "\telif n==1:\n",
    "\t\tx=1 \n",
    "\telse:\n",
    "\t\tx = fibonacci(n-1) + fibonacci(n-2)\n",
    "\tprint('Exit', n)\n",
    "\treturn x\n",
    "\n",
    "print(fibonacci(8))"
   ]
  }
 ],
 "metadata": {
  "kernelspec": {
   "display_name": "Python 3.10.6 64-bit",
   "language": "python",
   "name": "python3"
  },
  "language_info": {
   "codemirror_mode": {
    "name": "ipython",
    "version": 3
   },
   "file_extension": ".py",
   "mimetype": "text/x-python",
   "name": "python",
   "nbconvert_exporter": "python",
   "pygments_lexer": "ipython3",
   "version": "3.10.6"
  },
  "orig_nbformat": 4,
  "vscode": {
   "interpreter": {
    "hash": "916dbcbb3f70747c44a77c7bcd40155683ae19c65e1c03b4aa3499c5328201f1"
   }
  }
 },
 "nbformat": 4,
 "nbformat_minor": 2
}
