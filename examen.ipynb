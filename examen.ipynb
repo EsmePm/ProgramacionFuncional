{
 "cells": [
  {
   "cell_type": "code",
   "execution_count": null,
   "metadata": {},
   "outputs": [],
   "source": [
    "import csv"
   ]
  },
  {
   "cell_type": "markdown",
   "metadata": {},
   "source": [
    "Ejercicio 2"
   ]
  },
  {
   "cell_type": "code",
   "execution_count": null,
   "metadata": {},
   "outputs": [],
   "source": [
    "def ejercicio2(s:str) -> tuple:\n",
    "    with open(s) as csvfile:\n",
    "        lis = []\n",
    "        equipos = csv.reader(csvfile, delimiter = ',')\n",
    "        columnas = next(equipos)\n",
    "        for equipo in equipos:\n",
    "            iterador = zip(columnas,equipo)\n",
    "            lis.append(tuple(valor for clave, valor in iterador))\n",
    "        return tuple(lis)\n",
    "\n",
    "t = (ejercicio2('./soccer_df3.csv'))\n",
    "print(\"Ejercicio 2\\n\",t)"
   ]
  },
  {
   "cell_type": "code",
   "execution_count": null,
   "metadata": {},
   "outputs": [],
   "source": [
    "def ejercicio3(t : tuple)->tuple:\n",
    "    l = []\n",
    "    for i in t:\n",
    "        if i[5] == 'H':\n",
    "            l.append(tuple(i))\n",
    "    return tuple(l)\n",
    "\n",
    "r = (ejercicio3(t))\n",
    "print(\"Ejercicio 3\\n\",r)"
   ]
  },
  {
   "cell_type": "code",
   "execution_count": null,
   "metadata": {},
   "outputs": [],
   "source": [
    "def ejercicio4(r:tuple) -> list:\n",
    "    li = []\n",
    "    for i in r:\n",
    "        b = False\n",
    "        for l2 in li:\n",
    "            if l2['HomeTeam'] == i[1]:\n",
    "                l2['Total FTHG'] += int(i[3])\n",
    "                l2['Total FTGA'] += int(i[4])\n",
    "                b = True\n",
    "        if b == False:\n",
    "            li.append({'HomeTeam':i[2],'Total FTHG':int(i[3]),'Total FTGA':int(i[4])})\n",
    "    return li\n",
    "\n",
    "s = (ejercicio4(r))\n",
    "print(\"Ejercicio 4\\n\",s)"
   ]
  }
 ],
 "metadata": {
  "kernelspec": {
   "display_name": "Python 3.10.6 64-bit",
   "language": "python",
   "name": "python3"
  },
  "language_info": {
   "codemirror_mode": {
    "name": "ipython",
    "version": 3
   },
   "file_extension": ".py",
   "mimetype": "text/x-python",
   "name": "python",
   "nbconvert_exporter": "python",
   "pygments_lexer": "ipython3",
   "version": "3.10.6"
  },
  "orig_nbformat": 4,
  "vscode": {
   "interpreter": {
    "hash": "916dbcbb3f70747c44a77c7bcd40155683ae19c65e1c03b4aa3499c5328201f1"
   }
  }
 },
 "nbformat": 4,
 "nbformat_minor": 2
}
